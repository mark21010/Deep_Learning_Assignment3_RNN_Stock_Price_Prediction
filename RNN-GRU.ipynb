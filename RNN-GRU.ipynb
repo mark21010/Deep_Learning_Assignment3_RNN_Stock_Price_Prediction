{
 "cells": [
  {
   "cell_type": "markdown",
   "id": "2506159b",
   "metadata": {},
   "source": [
    "## RNN-GRU for stock price prediction"
   ]
  },
  {
   "cell_type": "markdown",
   "id": "042880dc",
   "metadata": {},
   "source": [
    "### Imports"
   ]
  },
  {
   "cell_type": "code",
   "execution_count": 1,
   "id": "b123c99e",
   "metadata": {},
   "outputs": [],
   "source": [
    "import yfinance as yf\n",
    "import torch\n",
    "import torch.nn as nn\n",
    "import numpy as np\n",
    "import pandas as pd\n",
    "import matplotlib.pyplot as plt\n",
    "import time\n",
    "from sklearn.preprocessing import MinMaxScaler\n",
    "from torch.utils.data import DataLoader, Dataset\n",
    "from copy import deepcopy as dc"
   ]
  },
  {
   "cell_type": "markdown",
   "id": "1e63fd0d",
   "metadata": {},
   "source": [
    "### GPU setting"
   ]
  },
  {
   "cell_type": "code",
   "execution_count": 2,
   "id": "be931a9a",
   "metadata": {},
   "outputs": [],
   "source": [
    "#use GPU\n",
    "device = 'cuda:0' if torch.cuda.is_available() else 'cpu'"
   ]
  },
  {
   "cell_type": "markdown",
   "id": "91e332c3",
   "metadata": {},
   "source": [
    "### Data download"
   ]
  },
  {
   "cell_type": "code",
   "execution_count": 3,
   "id": "d7199f80",
   "metadata": {},
   "outputs": [
    {
     "name": "stdout",
     "output_type": "stream",
     "text": [
      "[*********************100%%**********************]  1 of 1 completed\n"
     ]
    },
    {
     "data": {
      "text/html": [
       "<div>\n",
       "<style scoped>\n",
       "    .dataframe tbody tr th:only-of-type {\n",
       "        vertical-align: middle;\n",
       "    }\n",
       "\n",
       "    .dataframe tbody tr th {\n",
       "        vertical-align: top;\n",
       "    }\n",
       "\n",
       "    .dataframe thead th {\n",
       "        text-align: right;\n",
       "    }\n",
       "</style>\n",
       "<table border=\"1\" class=\"dataframe\">\n",
       "  <thead>\n",
       "    <tr style=\"text-align: right;\">\n",
       "      <th></th>\n",
       "      <th>Open</th>\n",
       "      <th>High</th>\n",
       "      <th>Low</th>\n",
       "      <th>Close</th>\n",
       "      <th>Adj Close</th>\n",
       "      <th>Volume</th>\n",
       "    </tr>\n",
       "    <tr>\n",
       "      <th>Date</th>\n",
       "      <th></th>\n",
       "      <th></th>\n",
       "      <th></th>\n",
       "      <th></th>\n",
       "      <th></th>\n",
       "      <th></th>\n",
       "    </tr>\n",
       "  </thead>\n",
       "  <tbody>\n",
       "    <tr>\n",
       "      <th>2013-11-20</th>\n",
       "      <td>18.543928</td>\n",
       "      <td>18.586430</td>\n",
       "      <td>18.368929</td>\n",
       "      <td>18.392857</td>\n",
       "      <td>16.124861</td>\n",
       "      <td>193916800</td>\n",
       "    </tr>\n",
       "    <tr>\n",
       "      <th>2013-11-21</th>\n",
       "      <td>18.485714</td>\n",
       "      <td>18.614643</td>\n",
       "      <td>18.345358</td>\n",
       "      <td>18.612143</td>\n",
       "      <td>16.317106</td>\n",
       "      <td>262026800</td>\n",
       "    </tr>\n",
       "    <tr>\n",
       "      <th>2013-11-22</th>\n",
       "      <td>18.554285</td>\n",
       "      <td>18.648571</td>\n",
       "      <td>18.518929</td>\n",
       "      <td>18.564285</td>\n",
       "      <td>16.275152</td>\n",
       "      <td>223725600</td>\n",
       "    </tr>\n",
       "    <tr>\n",
       "      <th>2013-11-25</th>\n",
       "      <td>18.607857</td>\n",
       "      <td>18.781071</td>\n",
       "      <td>18.607143</td>\n",
       "      <td>18.705000</td>\n",
       "      <td>16.398516</td>\n",
       "      <td>229311600</td>\n",
       "    </tr>\n",
       "    <tr>\n",
       "      <th>2013-11-26</th>\n",
       "      <td>18.718571</td>\n",
       "      <td>19.147858</td>\n",
       "      <td>18.714287</td>\n",
       "      <td>19.049999</td>\n",
       "      <td>16.700974</td>\n",
       "      <td>401382800</td>\n",
       "    </tr>\n",
       "    <tr>\n",
       "      <th>...</th>\n",
       "      <td>...</td>\n",
       "      <td>...</td>\n",
       "      <td>...</td>\n",
       "      <td>...</td>\n",
       "      <td>...</td>\n",
       "      <td>...</td>\n",
       "    </tr>\n",
       "    <tr>\n",
       "      <th>2023-11-14</th>\n",
       "      <td>187.699997</td>\n",
       "      <td>188.110001</td>\n",
       "      <td>186.300003</td>\n",
       "      <td>187.440002</td>\n",
       "      <td>187.440002</td>\n",
       "      <td>60108400</td>\n",
       "    </tr>\n",
       "    <tr>\n",
       "      <th>2023-11-15</th>\n",
       "      <td>187.850006</td>\n",
       "      <td>189.500000</td>\n",
       "      <td>187.779999</td>\n",
       "      <td>188.009995</td>\n",
       "      <td>188.009995</td>\n",
       "      <td>53790500</td>\n",
       "    </tr>\n",
       "    <tr>\n",
       "      <th>2023-11-16</th>\n",
       "      <td>189.570007</td>\n",
       "      <td>190.960007</td>\n",
       "      <td>188.649994</td>\n",
       "      <td>189.710007</td>\n",
       "      <td>189.710007</td>\n",
       "      <td>54412900</td>\n",
       "    </tr>\n",
       "    <tr>\n",
       "      <th>2023-11-17</th>\n",
       "      <td>190.250000</td>\n",
       "      <td>190.380005</td>\n",
       "      <td>188.570007</td>\n",
       "      <td>189.690002</td>\n",
       "      <td>189.690002</td>\n",
       "      <td>50922700</td>\n",
       "    </tr>\n",
       "    <tr>\n",
       "      <th>2023-11-20</th>\n",
       "      <td>189.889999</td>\n",
       "      <td>191.910004</td>\n",
       "      <td>189.880005</td>\n",
       "      <td>191.449997</td>\n",
       "      <td>191.449997</td>\n",
       "      <td>46505100</td>\n",
       "    </tr>\n",
       "  </tbody>\n",
       "</table>\n",
       "<p>2517 rows × 6 columns</p>\n",
       "</div>"
      ],
      "text/plain": [
       "                  Open        High         Low       Close   Adj Close  \\\n",
       "Date                                                                     \n",
       "2013-11-20   18.543928   18.586430   18.368929   18.392857   16.124861   \n",
       "2013-11-21   18.485714   18.614643   18.345358   18.612143   16.317106   \n",
       "2013-11-22   18.554285   18.648571   18.518929   18.564285   16.275152   \n",
       "2013-11-25   18.607857   18.781071   18.607143   18.705000   16.398516   \n",
       "2013-11-26   18.718571   19.147858   18.714287   19.049999   16.700974   \n",
       "...                ...         ...         ...         ...         ...   \n",
       "2023-11-14  187.699997  188.110001  186.300003  187.440002  187.440002   \n",
       "2023-11-15  187.850006  189.500000  187.779999  188.009995  188.009995   \n",
       "2023-11-16  189.570007  190.960007  188.649994  189.710007  189.710007   \n",
       "2023-11-17  190.250000  190.380005  188.570007  189.690002  189.690002   \n",
       "2023-11-20  189.889999  191.910004  189.880005  191.449997  191.449997   \n",
       "\n",
       "               Volume  \n",
       "Date                   \n",
       "2013-11-20  193916800  \n",
       "2013-11-21  262026800  \n",
       "2013-11-22  223725600  \n",
       "2013-11-25  229311600  \n",
       "2013-11-26  401382800  \n",
       "...               ...  \n",
       "2023-11-14   60108400  \n",
       "2023-11-15   53790500  \n",
       "2023-11-16   54412900  \n",
       "2023-11-17   50922700  \n",
       "2023-11-20   46505100  \n",
       "\n",
       "[2517 rows x 6 columns]"
      ]
     },
     "execution_count": 3,
     "metadata": {},
     "output_type": "execute_result"
    }
   ],
   "source": [
    "# Download data\n",
    "start, end, stock = '2013-11-20', '2023-11-21', 'AAPL'\n",
    "data = yf.download(stock, start, end)\n",
    "data"
   ]
  },
  {
   "cell_type": "markdown",
   "id": "38d7adeb",
   "metadata": {},
   "source": [
    "### Data analysis"
   ]
  },
  {
   "cell_type": "code",
   "execution_count": 4,
   "id": "fbafa369",
   "metadata": {},
   "outputs": [
    {
     "data": {
      "text/html": [
       "<div>\n",
       "<style scoped>\n",
       "    .dataframe tbody tr th:only-of-type {\n",
       "        vertical-align: middle;\n",
       "    }\n",
       "\n",
       "    .dataframe tbody tr th {\n",
       "        vertical-align: top;\n",
       "    }\n",
       "\n",
       "    .dataframe thead th {\n",
       "        text-align: right;\n",
       "    }\n",
       "</style>\n",
       "<table border=\"1\" class=\"dataframe\">\n",
       "  <thead>\n",
       "    <tr style=\"text-align: right;\">\n",
       "      <th></th>\n",
       "      <th>Open</th>\n",
       "      <th>High</th>\n",
       "      <th>Low</th>\n",
       "      <th>Close</th>\n",
       "      <th>Adj Close</th>\n",
       "      <th>Volume</th>\n",
       "    </tr>\n",
       "  </thead>\n",
       "  <tbody>\n",
       "    <tr>\n",
       "      <th>count</th>\n",
       "      <td>2517.000000</td>\n",
       "      <td>2517.000000</td>\n",
       "      <td>2517.000000</td>\n",
       "      <td>2517.000000</td>\n",
       "      <td>2517.000000</td>\n",
       "      <td>2.517000e+03</td>\n",
       "    </tr>\n",
       "    <tr>\n",
       "      <th>mean</th>\n",
       "      <td>75.971851</td>\n",
       "      <td>76.810181</td>\n",
       "      <td>75.188264</td>\n",
       "      <td>76.036297</td>\n",
       "      <td>74.074326</td>\n",
       "      <td>1.396766e+08</td>\n",
       "    </tr>\n",
       "    <tr>\n",
       "      <th>std</th>\n",
       "      <td>55.182104</td>\n",
       "      <td>55.834343</td>\n",
       "      <td>54.585715</td>\n",
       "      <td>55.240677</td>\n",
       "      <td>55.715299</td>\n",
       "      <td>8.640815e+07</td>\n",
       "    </tr>\n",
       "    <tr>\n",
       "      <th>min</th>\n",
       "      <td>17.684999</td>\n",
       "      <td>17.911785</td>\n",
       "      <td>17.626785</td>\n",
       "      <td>17.849285</td>\n",
       "      <td>15.648317</td>\n",
       "      <td>3.145820e+07</td>\n",
       "    </tr>\n",
       "    <tr>\n",
       "      <th>25%</th>\n",
       "      <td>29.377501</td>\n",
       "      <td>29.552500</td>\n",
       "      <td>29.122499</td>\n",
       "      <td>29.367500</td>\n",
       "      <td>26.946926</td>\n",
       "      <td>8.277270e+07</td>\n",
       "    </tr>\n",
       "    <tr>\n",
       "      <th>50%</th>\n",
       "      <td>47.382500</td>\n",
       "      <td>47.820000</td>\n",
       "      <td>46.912498</td>\n",
       "      <td>47.487499</td>\n",
       "      <td>45.411915</td>\n",
       "      <td>1.138600e+08</td>\n",
       "    </tr>\n",
       "    <tr>\n",
       "      <th>75%</th>\n",
       "      <td>132.429993</td>\n",
       "      <td>134.070007</td>\n",
       "      <td>130.929993</td>\n",
       "      <td>132.300003</td>\n",
       "      <td>130.748154</td>\n",
       "      <td>1.698056e+08</td>\n",
       "    </tr>\n",
       "    <tr>\n",
       "      <th>max</th>\n",
       "      <td>196.240005</td>\n",
       "      <td>198.229996</td>\n",
       "      <td>195.279999</td>\n",
       "      <td>196.449997</td>\n",
       "      <td>195.926956</td>\n",
       "      <td>1.065523e+09</td>\n",
       "    </tr>\n",
       "  </tbody>\n",
       "</table>\n",
       "</div>"
      ],
      "text/plain": [
       "              Open         High          Low        Close    Adj Close  \\\n",
       "count  2517.000000  2517.000000  2517.000000  2517.000000  2517.000000   \n",
       "mean     75.971851    76.810181    75.188264    76.036297    74.074326   \n",
       "std      55.182104    55.834343    54.585715    55.240677    55.715299   \n",
       "min      17.684999    17.911785    17.626785    17.849285    15.648317   \n",
       "25%      29.377501    29.552500    29.122499    29.367500    26.946926   \n",
       "50%      47.382500    47.820000    46.912498    47.487499    45.411915   \n",
       "75%     132.429993   134.070007   130.929993   132.300003   130.748154   \n",
       "max     196.240005   198.229996   195.279999   196.449997   195.926956   \n",
       "\n",
       "             Volume  \n",
       "count  2.517000e+03  \n",
       "mean   1.396766e+08  \n",
       "std    8.640815e+07  \n",
       "min    3.145820e+07  \n",
       "25%    8.277270e+07  \n",
       "50%    1.138600e+08  \n",
       "75%    1.698056e+08  \n",
       "max    1.065523e+09  "
      ]
     },
     "execution_count": 4,
     "metadata": {},
     "output_type": "execute_result"
    }
   ],
   "source": [
    "data.describe()"
   ]
  },
  {
   "cell_type": "code",
   "execution_count": 5,
   "id": "a1f98453",
   "metadata": {},
   "outputs": [
    {
     "name": "stdout",
     "output_type": "stream",
     "text": [
      "<class 'pandas.core.frame.DataFrame'>\n",
      "DatetimeIndex: 2517 entries, 2013-11-20 to 2023-11-20\n",
      "Data columns (total 6 columns):\n",
      " #   Column     Non-Null Count  Dtype  \n",
      "---  ------     --------------  -----  \n",
      " 0   Open       2517 non-null   float64\n",
      " 1   High       2517 non-null   float64\n",
      " 2   Low        2517 non-null   float64\n",
      " 3   Close      2517 non-null   float64\n",
      " 4   Adj Close  2517 non-null   float64\n",
      " 5   Volume     2517 non-null   int64  \n",
      "dtypes: float64(5), int64(1)\n",
      "memory usage: 137.6 KB\n"
     ]
    }
   ],
   "source": [
    "data.info()"
   ]
  },
  {
   "cell_type": "code",
   "execution_count": 6,
   "id": "70497f8e",
   "metadata": {},
   "outputs": [
    {
     "data": {
      "text/plain": [
       "Open         0\n",
       "High         0\n",
       "Low          0\n",
       "Close        0\n",
       "Adj Close    0\n",
       "Volume       0\n",
       "dtype: int64"
      ]
     },
     "execution_count": 6,
     "metadata": {},
     "output_type": "execute_result"
    }
   ],
   "source": [
    "data.isnull().sum()"
   ]
  },
  {
   "cell_type": "markdown",
   "id": "11bdfaa4",
   "metadata": {},
   "source": [
    "### Data preprocessing"
   ]
  },
  {
   "cell_type": "code",
   "execution_count": 7,
   "id": "a1c06253",
   "metadata": {},
   "outputs": [
    {
     "data": {
      "image/png": "[encoded data removed]",
      "text/plain": [
       "<Figure size 1000x600 with 1 Axes>"
      ]
     },
     "metadata": {},
     "output_type": "display_data"
    }
   ],
   "source": [
    "#Apple stock Adj Close VS Time\n",
    "AdjClose_df = pd.DataFrame(data['Adj Close'])\n",
    "\n",
    "plt.figure(figsize=(10, 6))\n",
    "plt.plot(AdjClose_df, label='Actual Adj Close')\n",
    "plt.xlabel('Time')\n",
    "plt.ylabel('AppleStock_AdjClose')\n",
    "plt.show()"
   ]
  },
  {
   "cell_type": "code",
   "execution_count": 8,
   "id": "1ba86165",
   "metadata": {},
   "outputs": [
    {
     "name": "stdout",
     "output_type": "stream",
     "text": [
      "[[-0.99471326]\n",
      " [-0.9925805 ]\n",
      " [-0.99304593]\n",
      " ...\n",
      " [ 0.93102955]\n",
      " [ 0.93080762]\n",
      " [ 0.95033289]]\n"
     ]
    }
   ],
   "source": [
    "#using MinMaxScaler() convert Adj Close to a new value between -1 and 1\n",
    "scaler = MinMaxScaler(feature_range=(-1, 1))\n",
    "scalered_AdjClose_df = scaler.fit_transform(AdjClose_df)\n",
    "print(scalered_AdjClose_df)"
   ]
  },
  {
   "cell_type": "code",
   "execution_count": 9,
   "id": "e66d53ed",
   "metadata": {},
   "outputs": [
    {
     "name": "stdout",
     "output_type": "stream",
     "text": [
      "[[[-0.99471326]\n",
      "  [-0.9925805 ]\n",
      "  [-0.99304593]\n",
      "  ...\n",
      "  [-0.9883219 ]\n",
      "  [-0.98395913]\n",
      "  [-0.98044737]]\n",
      "\n",
      " [[-0.9925805 ]\n",
      "  [-0.99304593]\n",
      "  [-0.99167735]\n",
      "  ...\n",
      "  [-0.98395913]\n",
      "  [-0.98044737]\n",
      "  [-0.98212855]]\n",
      "\n",
      " [[-0.99304593]\n",
      "  [-0.99167735]\n",
      "  [-0.9883219 ]\n",
      "  ...\n",
      "  [-0.98044737]\n",
      "  [-0.98212855]\n",
      "  [-0.97688695]]\n",
      "\n",
      " ...\n",
      "\n",
      " [[ 0.84084441]\n",
      "  [ 0.85269927]\n",
      "  [ 0.84738116]\n",
      "  ...\n",
      "  [ 0.87655827]\n",
      "  [ 0.90584626]\n",
      "  [ 0.91216972]]\n",
      "\n",
      " [[ 0.85269927]\n",
      "  [ 0.84738116]\n",
      "  [ 0.89430847]\n",
      "  ...\n",
      "  [ 0.90584626]\n",
      "  [ 0.91216972]\n",
      "  [ 0.93102955]]\n",
      "\n",
      " [[ 0.84738116]\n",
      "  [ 0.89430847]\n",
      "  [ 0.87655827]\n",
      "  ...\n",
      "  [ 0.91216972]\n",
      "  [ 0.93102955]\n",
      "  [ 0.93080762]]]\n",
      "[[-0.98212855]\n",
      " [-0.97688695]\n",
      " [-0.9773454 ]\n",
      " ...\n",
      " [ 0.93102955]\n",
      " [ 0.93080762]\n",
      " [ 0.95033289]]\n"
     ]
    }
   ],
   "source": [
    "# Create sequences values\n",
    "def create_sequences(data, sequence_length):\n",
    "    xs, ys = [], []\n",
    "    for i in range(len(data) - sequence_length):\n",
    "        x = data[i:(i + sequence_length)]\n",
    "        y = data[i + sequence_length]\n",
    "        xs.append(x)\n",
    "        ys.append(y)\n",
    "    return np.array(xs), np.array(ys)\n",
    "\n",
    "sequence_length = 7 #set how many days adjclose value to be in one input\n",
    "x, y = create_sequences(scalered_AdjClose_df, sequence_length)\n",
    "\n",
    "print(x)\n",
    "print(y)"
   ]
  },
  {
   "cell_type": "markdown",
   "id": "7a2ea627",
   "metadata": {},
   "source": [
    "### Data setting"
   ]
  },
  {
   "cell_type": "code",
   "execution_count": 10,
   "id": "5159c221",
   "metadata": {},
   "outputs": [
    {
     "data": {
      "text/plain": [
       "((1757, 7, 1), (502, 7, 1), (251, 7, 1), (1757, 1), (502, 1), (251, 1))"
      ]
     },
     "execution_count": 10,
     "metadata": {},
     "output_type": "execute_result"
    }
   ],
   "source": [
    "# Split the dataset (training, validation, testing) - (70%, 20%, 10%)\n",
    "train_size = int(len(x) * 0.7)\n",
    "val_size = int(len(x) * 0.9)\n",
    "\n",
    "x_train, y_train = x[:train_size], y[:train_size]\n",
    "x_val, y_val = x[train_size:val_size], y[train_size:val_size]\n",
    "x_test, y_test = x[val_size:], y[val_size:]\n",
    "\n",
    "x_train.shape, x_val.shape, x_test.shape, y_train.shape, y_val.shape, y_test.shape"
   ]
  },
  {
   "cell_type": "code",
   "execution_count": 11,
   "id": "4a9c3453",
   "metadata": {},
   "outputs": [
    {
     "data": {
      "text/plain": [
       "(torch.Size([1757, 7, 1]),\n",
       " torch.Size([502, 7, 1]),\n",
       " torch.Size([251, 7, 1]),\n",
       " torch.Size([1757, 1]),\n",
       " torch.Size([502, 1]),\n",
       " torch.Size([251, 1]))"
      ]
     },
     "execution_count": 11,
     "metadata": {},
     "output_type": "execute_result"
    }
   ],
   "source": [
    "# Convert to PyTorch tensors\n",
    "x_train = torch.tensor(x_train).float()\n",
    "y_train = torch.tensor(y_train).float()\n",
    "x_val = torch.tensor(x_val).float()\n",
    "y_val = torch.tensor(y_val).float()\n",
    "x_test = torch.tensor(x_test).float()\n",
    "y_test = torch.tensor(y_test).float()\n",
    "\n",
    "x_train.shape, x_val.shape, x_test.shape, y_train.shape, y_val.shape, y_test.shape"
   ]
  },
  {
   "cell_type": "code",
   "execution_count": 12,
   "id": "91cbd5d9",
   "metadata": {},
   "outputs": [],
   "source": [
    "# Dataset class\n",
    "class TimeSeriesDataset(Dataset):\n",
    "    def __init__(self, x, y):\n",
    "        self.x = x\n",
    "        self.y = y\n",
    "    def __len__(self):\n",
    "        return len(self.x)\n",
    "    def __getitem__(self, i):\n",
    "        return self.x[i], self.y[i]"
   ]
  },
  {
   "cell_type": "code",
   "execution_count": 13,
   "id": "b9732d84",
   "metadata": {},
   "outputs": [],
   "source": [
    "# Create datasets and dataloaders\n",
    "batch_size = 8\n",
    "train_dataset = TimeSeriesDataset(x_train, y_train)\n",
    "val_dataset = TimeSeriesDataset(x_val, y_val)\n",
    "test_dataset = TimeSeriesDataset(x_test, y_test)\n",
    "\n",
    "train_loader = DataLoader(train_dataset, batch_size=batch_size, shuffle=True)\n",
    "val_loader = DataLoader(val_dataset, batch_size=batch_size, shuffle=False)\n",
    "test_loader = DataLoader(test_dataset, batch_size=batch_size, shuffle=False)"
   ]
  },
  {
   "cell_type": "markdown",
   "id": "2066c06a",
   "metadata": {},
   "source": [
    "### Model"
   ]
  },
  {
   "cell_type": "code",
   "execution_count": 14,
   "id": "675b9c38",
   "metadata": {},
   "outputs": [],
   "source": [
    "# GRU Model\n",
    "class GRU(nn.Module):\n",
    "    def __init__(self, input_size, hidden_size, num_stacked_layers):\n",
    "        super().__init__()\n",
    "        self.hidden_size = hidden_size\n",
    "        self.num_stacked_layers = num_stacked_layers\n",
    "\n",
    "        self.gru = nn.GRU(input_size, hidden_size, num_stacked_layers, \n",
    "                          batch_first=True)\n",
    "        self.fc = nn.Linear(hidden_size, 1)\n",
    "\n",
    "    def forward(self, x):\n",
    "        batch_size = x.size(0)\n",
    "        h0 = torch.zeros(self.num_stacked_layers, batch_size, self.hidden_size).to(device)\n",
    "        \n",
    "        out, _ = self.gru(x, h0)\n",
    "        out = self.fc(out[:, -1, :])\n",
    "        return out"
   ]
  },
  {
   "cell_type": "code",
   "execution_count": 15,
   "id": "d1d52f4e",
   "metadata": {},
   "outputs": [],
   "source": [
    "# Define training and validation functions\n",
    "def train_one_epoch(model, train_loader, loss_function, optimizer):\n",
    "    model.train()\n",
    "    running_loss = 0.0\n",
    "    for i, (x_batch, y_batch) in enumerate(train_loader):\n",
    "        x_batch, y_batch = x_batch.to(device), y_batch.to(device)\n",
    "        optimizer.zero_grad()\n",
    "        y_pred = model(x_batch)\n",
    "        loss = loss_function(y_pred, y_batch)        \n",
    "        loss.backward()\n",
    "        optimizer.step()\n",
    "        running_loss += loss.item()\n",
    "        \n",
    "\n",
    "        # Print every 100 batches\n",
    "        if (i + 1) % 100 == 0:\n",
    "            print(f'Training - Epoch [{epoch+1}/{num_epochs}], Batch: {i+1}, Loss: {running_loss / (i+1):.4f}')\n",
    "    \n",
    "    return running_loss / len(train_loader)\n",
    "\n",
    "def validate_one_epoch(model, val_loader, loss_function):\n",
    "    model.eval()\n",
    "    running_loss = 0.0\n",
    "    for i, (x_batch, y_batch) in enumerate(val_loader):\n",
    "        x_batch, y_batch = x_batch.to(device), y_batch.to(device)\n",
    "        with torch.no_grad():\n",
    "            y_pred = model(x_batch)\n",
    "            loss = loss_function(y_pred, y_batch)\n",
    "            running_loss += loss.item()\n",
    "\n",
    "        # Print every 100 batches\n",
    "        if (i + 1) % 100 == 0:\n",
    "            print(f'Validation - Epoch [{epoch+1}/{num_epochs}], Batch: {i+1}, Loss: {running_loss / (i+1):.4f}')\n",
    "    \n",
    "    return running_loss / len(val_loader)\n"
   ]
  },
  {
   "cell_type": "markdown",
   "id": "a231013d",
   "metadata": {},
   "source": [
    "### Model initialization"
   ]
  },
  {
   "cell_type": "code",
   "execution_count": 16,
   "id": "bb6fde83",
   "metadata": {},
   "outputs": [],
   "source": [
    "# Initialize and train model (including validation)\n",
    "model = GRU(1, 4, 1).to(device)\n",
    "loss_function = nn.MSELoss()\n",
    "optimizer = torch.optim.Adam(model.parameters(), lr=0.001)"
   ]
  },
  {
   "cell_type": "markdown",
   "id": "3f818b1a",
   "metadata": {},
   "source": [
    "### Model Training"
   ]
  },
  {
   "cell_type": "code",
   "execution_count": 17,
   "id": "651f50f9",
   "metadata": {},
   "outputs": [
    {
     "name": "stdout",
     "output_type": "stream",
     "text": [
      "Training - Epoch [1/75], Batch: 100, Loss: 0.7050\n",
      "Training - Epoch [1/75], Batch: 200, Loss: 0.4323\n",
      "Epoch 1/75, Training Loss: 0.3990, Validation Loss: 0.6350\n",
      "Training - Epoch [2/75], Batch: 100, Loss: 0.0469\n",
      "Training - Epoch [2/75], Batch: 200, Loss: 0.0449\n",
      "Epoch 2/75, Training Loss: 0.0436, Validation Loss: 0.5938\n",
      "Training - Epoch [3/75], Batch: 100, Loss: 0.0351\n",
      "Training - Epoch [3/75], Batch: 200, Loss: 0.0319\n",
      "Epoch 3/75, Training Loss: 0.0315, Validation Loss: 0.4418\n",
      "Training - Epoch [4/75], Batch: 100, Loss: 0.0249\n",
      "Training - Epoch [4/75], Batch: 200, Loss: 0.0227\n",
      "Epoch 4/75, Training Loss: 0.0221, Validation Loss: 0.2921\n",
      "Training - Epoch [5/75], Batch: 100, Loss: 0.0139\n",
      "Training - Epoch [5/75], Batch: 200, Loss: 0.0135\n",
      "Epoch 5/75, Training Loss: 0.0132, Validation Loss: 0.1619\n",
      "Training - Epoch [6/75], Batch: 100, Loss: 0.0076\n",
      "Training - Epoch [6/75], Batch: 200, Loss: 0.0059\n",
      "Epoch 6/75, Training Loss: 0.0056, Validation Loss: 0.0761\n",
      "Training - Epoch [7/75], Batch: 100, Loss: 0.0020\n",
      "Training - Epoch [7/75], Batch: 200, Loss: 0.0015\n",
      "Epoch 7/75, Training Loss: 0.0014, Validation Loss: 0.0413\n",
      "Training - Epoch [8/75], Batch: 100, Loss: 0.0005\n",
      "Training - Epoch [8/75], Batch: 200, Loss: 0.0005\n",
      "Epoch 8/75, Training Loss: 0.0005, Validation Loss: 0.0328\n",
      "Training - Epoch [9/75], Batch: 100, Loss: 0.0005\n",
      "Training - Epoch [9/75], Batch: 200, Loss: 0.0004\n",
      "Epoch 9/75, Training Loss: 0.0004, Validation Loss: 0.0306\n",
      "Training - Epoch [10/75], Batch: 100, Loss: 0.0004\n",
      "Training - Epoch [10/75], Batch: 200, Loss: 0.0004\n",
      "Epoch 10/75, Training Loss: 0.0004, Validation Loss: 0.0290\n",
      "Training - Epoch [11/75], Batch: 100, Loss: 0.0003\n",
      "Training - Epoch [11/75], Batch: 200, Loss: 0.0004\n",
      "Epoch 11/75, Training Loss: 0.0004, Validation Loss: 0.0268\n",
      "Training - Epoch [12/75], Batch: 100, Loss: 0.0003\n",
      "Training - Epoch [12/75], Batch: 200, Loss: 0.0003\n",
      "Epoch 12/75, Training Loss: 0.0003, Validation Loss: 0.0244\n",
      "Training - Epoch [13/75], Batch: 100, Loss: 0.0004\n",
      "Training - Epoch [13/75], Batch: 200, Loss: 0.0003\n",
      "Epoch 13/75, Training Loss: 0.0003, Validation Loss: 0.0225\n",
      "Training - Epoch [14/75], Batch: 100, Loss: 0.0003\n",
      "Training - Epoch [14/75], Batch: 200, Loss: 0.0003\n",
      "Epoch 14/75, Training Loss: 0.0003, Validation Loss: 0.0201\n",
      "Training - Epoch [15/75], Batch: 100, Loss: 0.0003\n",
      "Training - Epoch [15/75], Batch: 200, Loss: 0.0003\n",
      "Epoch 15/75, Training Loss: 0.0003, Validation Loss: 0.0174\n",
      "Training - Epoch [16/75], Batch: 100, Loss: 0.0003\n",
      "Training - Epoch [16/75], Batch: 200, Loss: 0.0003\n",
      "Epoch 16/75, Training Loss: 0.0003, Validation Loss: 0.0162\n",
      "Training - Epoch [17/75], Batch: 100, Loss: 0.0003\n",
      "Training - Epoch [17/75], Batch: 200, Loss: 0.0003\n",
      "Epoch 17/75, Training Loss: 0.0003, Validation Loss: 0.0148\n",
      "Training - Epoch [18/75], Batch: 100, Loss: 0.0003\n",
      "Training - Epoch [18/75], Batch: 200, Loss: 0.0002\n",
      "Epoch 18/75, Training Loss: 0.0002, Validation Loss: 0.0129\n",
      "Training - Epoch [19/75], Batch: 100, Loss: 0.0002\n",
      "Training - Epoch [19/75], Batch: 200, Loss: 0.0002\n",
      "Epoch 19/75, Training Loss: 0.0002, Validation Loss: 0.0114\n",
      "Training - Epoch [20/75], Batch: 100, Loss: 0.0002\n",
      "Training - Epoch [20/75], Batch: 200, Loss: 0.0002\n",
      "Epoch 20/75, Training Loss: 0.0002, Validation Loss: 0.0101\n",
      "Training - Epoch [21/75], Batch: 100, Loss: 0.0002\n",
      "Training - Epoch [21/75], Batch: 200, Loss: 0.0002\n",
      "Epoch 21/75, Training Loss: 0.0002, Validation Loss: 0.0090\n",
      "Training - Epoch [22/75], Batch: 100, Loss: 0.0002\n",
      "Training - Epoch [22/75], Batch: 200, Loss: 0.0002\n",
      "Epoch 22/75, Training Loss: 0.0002, Validation Loss: 0.0081\n",
      "Training - Epoch [23/75], Batch: 100, Loss: 0.0002\n",
      "Training - Epoch [23/75], Batch: 200, Loss: 0.0002\n",
      "Epoch 23/75, Training Loss: 0.0002, Validation Loss: 0.0075\n",
      "Training - Epoch [24/75], Batch: 100, Loss: 0.0002\n",
      "Training - Epoch [24/75], Batch: 200, Loss: 0.0002\n",
      "Epoch 24/75, Training Loss: 0.0002, Validation Loss: 0.0070\n",
      "Training - Epoch [25/75], Batch: 100, Loss: 0.0002\n",
      "Training - Epoch [25/75], Batch: 200, Loss: 0.0002\n",
      "Epoch 25/75, Training Loss: 0.0002, Validation Loss: 0.0058\n",
      "Training - Epoch [26/75], Batch: 100, Loss: 0.0002\n",
      "Training - Epoch [26/75], Batch: 200, Loss: 0.0002\n",
      "Epoch 26/75, Training Loss: 0.0002, Validation Loss: 0.0053\n",
      "Training - Epoch [27/75], Batch: 100, Loss: 0.0002\n",
      "Training - Epoch [27/75], Batch: 200, Loss: 0.0002\n",
      "Epoch 27/75, Training Loss: 0.0002, Validation Loss: 0.0053\n",
      "Training - Epoch [28/75], Batch: 100, Loss: 0.0002\n",
      "Training - Epoch [28/75], Batch: 200, Loss: 0.0002\n",
      "Epoch 28/75, Training Loss: 0.0002, Validation Loss: 0.0035\n",
      "Training - Epoch [29/75], Batch: 100, Loss: 0.0002\n",
      "Training - Epoch [29/75], Batch: 200, Loss: 0.0002\n",
      "Epoch 29/75, Training Loss: 0.0002, Validation Loss: 0.0034\n",
      "Training - Epoch [30/75], Batch: 100, Loss: 0.0002\n",
      "Training - Epoch [30/75], Batch: 200, Loss: 0.0002\n",
      "Epoch 30/75, Training Loss: 0.0002, Validation Loss: 0.0029\n",
      "Training - Epoch [31/75], Batch: 100, Loss: 0.0002\n",
      "Training - Epoch [31/75], Batch: 200, Loss: 0.0002\n",
      "Epoch 31/75, Training Loss: 0.0002, Validation Loss: 0.0024\n",
      "Training - Epoch [32/75], Batch: 100, Loss: 0.0002\n",
      "Training - Epoch [32/75], Batch: 200, Loss: 0.0002\n",
      "Epoch 32/75, Training Loss: 0.0002, Validation Loss: 0.0022\n",
      "Training - Epoch [33/75], Batch: 100, Loss: 0.0001\n",
      "Training - Epoch [33/75], Batch: 200, Loss: 0.0002\n",
      "Epoch 33/75, Training Loss: 0.0002, Validation Loss: 0.0028\n",
      "Training - Epoch [34/75], Batch: 100, Loss: 0.0001\n",
      "Training - Epoch [34/75], Batch: 200, Loss: 0.0002\n",
      "Epoch 34/75, Training Loss: 0.0002, Validation Loss: 0.0021\n",
      "Training - Epoch [35/75], Batch: 100, Loss: 0.0002\n",
      "Training - Epoch [35/75], Batch: 200, Loss: 0.0002\n",
      "Epoch 35/75, Training Loss: 0.0002, Validation Loss: 0.0020\n",
      "Training - Epoch [36/75], Batch: 100, Loss: 0.0002\n",
      "Training - Epoch [36/75], Batch: 200, Loss: 0.0002\n",
      "Epoch 36/75, Training Loss: 0.0002, Validation Loss: 0.0027\n",
      "Training - Epoch [37/75], Batch: 100, Loss: 0.0002\n",
      "Training - Epoch [37/75], Batch: 200, Loss: 0.0002\n",
      "Epoch 37/75, Training Loss: 0.0002, Validation Loss: 0.0022\n",
      "Training - Epoch [38/75], Batch: 100, Loss: 0.0001\n",
      "Training - Epoch [38/75], Batch: 200, Loss: 0.0002\n",
      "Epoch 38/75, Training Loss: 0.0002, Validation Loss: 0.0017\n",
      "Training - Epoch [39/75], Batch: 100, Loss: 0.0002\n",
      "Training - Epoch [39/75], Batch: 200, Loss: 0.0002\n",
      "Epoch 39/75, Training Loss: 0.0002, Validation Loss: 0.0015\n",
      "Training - Epoch [40/75], Batch: 100, Loss: 0.0001\n",
      "Training - Epoch [40/75], Batch: 200, Loss: 0.0002\n",
      "Epoch 40/75, Training Loss: 0.0002, Validation Loss: 0.0021\n",
      "Training - Epoch [41/75], Batch: 100, Loss: 0.0001\n",
      "Training - Epoch [41/75], Batch: 200, Loss: 0.0002\n",
      "Epoch 41/75, Training Loss: 0.0002, Validation Loss: 0.0019\n",
      "Training - Epoch [42/75], Batch: 100, Loss: 0.0002\n",
      "Training - Epoch [42/75], Batch: 200, Loss: 0.0002\n",
      "Epoch 42/75, Training Loss: 0.0002, Validation Loss: 0.0019\n",
      "Training - Epoch [43/75], Batch: 100, Loss: 0.0001\n",
      "Training - Epoch [43/75], Batch: 200, Loss: 0.0002\n",
      "Epoch 43/75, Training Loss: 0.0002, Validation Loss: 0.0021\n",
      "Training - Epoch [44/75], Batch: 100, Loss: 0.0002\n",
      "Training - Epoch [44/75], Batch: 200, Loss: 0.0002\n",
      "Epoch 44/75, Training Loss: 0.0002, Validation Loss: 0.0020\n",
      "Training - Epoch [45/75], Batch: 100, Loss: 0.0002\n",
      "Training - Epoch [45/75], Batch: 200, Loss: 0.0002\n",
      "Epoch 45/75, Training Loss: 0.0002, Validation Loss: 0.0017\n",
      "Training - Epoch [46/75], Batch: 100, Loss: 0.0001\n",
      "Training - Epoch [46/75], Batch: 200, Loss: 0.0002\n",
      "Epoch 46/75, Training Loss: 0.0002, Validation Loss: 0.0020\n",
      "Training - Epoch [47/75], Batch: 100, Loss: 0.0001\n",
      "Training - Epoch [47/75], Batch: 200, Loss: 0.0002\n",
      "Epoch 47/75, Training Loss: 0.0002, Validation Loss: 0.0016\n",
      "Training - Epoch [48/75], Batch: 100, Loss: 0.0002\n",
      "Training - Epoch [48/75], Batch: 200, Loss: 0.0002\n",
      "Epoch 48/75, Training Loss: 0.0002, Validation Loss: 0.0020\n",
      "Training - Epoch [49/75], Batch: 100, Loss: 0.0002\n",
      "Training - Epoch [49/75], Batch: 200, Loss: 0.0002\n",
      "Epoch 49/75, Training Loss: 0.0002, Validation Loss: 0.0017\n",
      "Training - Epoch [50/75], Batch: 100, Loss: 0.0001\n",
      "Training - Epoch [50/75], Batch: 200, Loss: 0.0002\n",
      "Epoch 50/75, Training Loss: 0.0002, Validation Loss: 0.0018\n",
      "Training - Epoch [51/75], Batch: 100, Loss: 0.0002\n",
      "Training - Epoch [51/75], Batch: 200, Loss: 0.0002\n",
      "Epoch 51/75, Training Loss: 0.0002, Validation Loss: 0.0019\n"
     ]
    },
    {
     "name": "stdout",
     "output_type": "stream",
     "text": [
      "Training - Epoch [52/75], Batch: 100, Loss: 0.0002\n",
      "Training - Epoch [52/75], Batch: 200, Loss: 0.0002\n",
      "Epoch 52/75, Training Loss: 0.0002, Validation Loss: 0.0020\n",
      "Training - Epoch [53/75], Batch: 100, Loss: 0.0002\n",
      "Training - Epoch [53/75], Batch: 200, Loss: 0.0002\n",
      "Epoch 53/75, Training Loss: 0.0002, Validation Loss: 0.0018\n",
      "Training - Epoch [54/75], Batch: 100, Loss: 0.0001\n",
      "Training - Epoch [54/75], Batch: 200, Loss: 0.0001\n",
      "Epoch 54/75, Training Loss: 0.0001, Validation Loss: 0.0025\n",
      "Training - Epoch [55/75], Batch: 100, Loss: 0.0002\n",
      "Training - Epoch [55/75], Batch: 200, Loss: 0.0002\n",
      "Epoch 55/75, Training Loss: 0.0002, Validation Loss: 0.0019\n",
      "Training - Epoch [56/75], Batch: 100, Loss: 0.0002\n",
      "Training - Epoch [56/75], Batch: 200, Loss: 0.0002\n",
      "Epoch 56/75, Training Loss: 0.0002, Validation Loss: 0.0017\n",
      "Training - Epoch [57/75], Batch: 100, Loss: 0.0002\n",
      "Training - Epoch [57/75], Batch: 200, Loss: 0.0002\n",
      "Epoch 57/75, Training Loss: 0.0002, Validation Loss: 0.0015\n",
      "Training - Epoch [58/75], Batch: 100, Loss: 0.0001\n",
      "Training - Epoch [58/75], Batch: 200, Loss: 0.0002\n",
      "Epoch 58/75, Training Loss: 0.0002, Validation Loss: 0.0023\n",
      "Training - Epoch [59/75], Batch: 100, Loss: 0.0001\n",
      "Training - Epoch [59/75], Batch: 200, Loss: 0.0001\n",
      "Epoch 59/75, Training Loss: 0.0001, Validation Loss: 0.0024\n",
      "Training - Epoch [60/75], Batch: 100, Loss: 0.0001\n",
      "Training - Epoch [60/75], Batch: 200, Loss: 0.0001\n",
      "Epoch 60/75, Training Loss: 0.0001, Validation Loss: 0.0038\n",
      "Training - Epoch [61/75], Batch: 100, Loss: 0.0002\n",
      "Training - Epoch [61/75], Batch: 200, Loss: 0.0001\n",
      "Epoch 61/75, Training Loss: 0.0001, Validation Loss: 0.0025\n",
      "Training - Epoch [62/75], Batch: 100, Loss: 0.0001\n",
      "Training - Epoch [62/75], Batch: 200, Loss: 0.0002\n",
      "Epoch 62/75, Training Loss: 0.0001, Validation Loss: 0.0027\n",
      "Training - Epoch [63/75], Batch: 100, Loss: 0.0002\n",
      "Training - Epoch [63/75], Batch: 200, Loss: 0.0002\n",
      "Epoch 63/75, Training Loss: 0.0002, Validation Loss: 0.0024\n",
      "Training - Epoch [64/75], Batch: 100, Loss: 0.0001\n",
      "Training - Epoch [64/75], Batch: 200, Loss: 0.0002\n",
      "Epoch 64/75, Training Loss: 0.0001, Validation Loss: 0.0019\n",
      "Training - Epoch [65/75], Batch: 100, Loss: 0.0001\n",
      "Training - Epoch [65/75], Batch: 200, Loss: 0.0002\n",
      "Epoch 65/75, Training Loss: 0.0002, Validation Loss: 0.0019\n",
      "Training - Epoch [66/75], Batch: 100, Loss: 0.0001\n",
      "Training - Epoch [66/75], Batch: 200, Loss: 0.0002\n",
      "Epoch 66/75, Training Loss: 0.0002, Validation Loss: 0.0022\n",
      "Training - Epoch [67/75], Batch: 100, Loss: 0.0002\n",
      "Training - Epoch [67/75], Batch: 200, Loss: 0.0001\n",
      "Epoch 67/75, Training Loss: 0.0001, Validation Loss: 0.0015\n",
      "Training - Epoch [68/75], Batch: 100, Loss: 0.0002\n",
      "Training - Epoch [68/75], Batch: 200, Loss: 0.0001\n",
      "Epoch 68/75, Training Loss: 0.0002, Validation Loss: 0.0019\n",
      "Training - Epoch [69/75], Batch: 100, Loss: 0.0001\n",
      "Training - Epoch [69/75], Batch: 200, Loss: 0.0001\n",
      "Epoch 69/75, Training Loss: 0.0001, Validation Loss: 0.0018\n",
      "Training - Epoch [70/75], Batch: 100, Loss: 0.0001\n",
      "Training - Epoch [70/75], Batch: 200, Loss: 0.0001\n",
      "Epoch 70/75, Training Loss: 0.0001, Validation Loss: 0.0028\n",
      "Training - Epoch [71/75], Batch: 100, Loss: 0.0002\n",
      "Training - Epoch [71/75], Batch: 200, Loss: 0.0002\n",
      "Epoch 71/75, Training Loss: 0.0001, Validation Loss: 0.0016\n",
      "Training - Epoch [72/75], Batch: 100, Loss: 0.0002\n",
      "Training - Epoch [72/75], Batch: 200, Loss: 0.0002\n",
      "Epoch 72/75, Training Loss: 0.0002, Validation Loss: 0.0023\n",
      "Training - Epoch [73/75], Batch: 100, Loss: 0.0001\n",
      "Training - Epoch [73/75], Batch: 200, Loss: 0.0002\n",
      "Epoch 73/75, Training Loss: 0.0002, Validation Loss: 0.0020\n",
      "Training - Epoch [74/75], Batch: 100, Loss: 0.0001\n",
      "Training - Epoch [74/75], Batch: 200, Loss: 0.0002\n",
      "Epoch 74/75, Training Loss: 0.0002, Validation Loss: 0.0024\n",
      "Training - Epoch [75/75], Batch: 100, Loss: 0.0002\n",
      "Training - Epoch [75/75], Batch: 200, Loss: 0.0001\n",
      "Epoch 75/75, Training Loss: 0.0001, Validation Loss: 0.0020\n",
      "Training completed in: 54.00 seconds\n"
     ]
    }
   ],
   "source": [
    "num_epochs = 75\n",
    "train_losses, val_losses = [], []\n",
    "\n",
    "start_time = time.time()\n",
    "\n",
    "for epoch in range(num_epochs):\n",
    "    train_loss = train_one_epoch(model, train_loader, loss_function, optimizer)\n",
    "    val_loss = validate_one_epoch(model, val_loader, loss_function)\n",
    "    train_losses.append(train_loss)\n",
    "    val_losses.append(val_loss)\n",
    "    print(f'Epoch {epoch+1}/{num_epochs}, Training Loss: {train_loss:.4f}, Validation Loss: {val_loss:.4f}')\n",
    "    \n",
    "end_time = time.time()  \n",
    "training_time = end_time - start_time  \n",
    "\n",
    "print(f\"Training completed in: {training_time:.2f} seconds\")"
   ]
  },
  {
   "cell_type": "markdown",
   "id": "ef662c7b",
   "metadata": {},
   "source": [
    "### Plotting and Testing"
   ]
  },
  {
   "cell_type": "code",
   "execution_count": 18,
   "id": "d4595d84",
   "metadata": {},
   "outputs": [
    {
     "data": {
      "image/png": "[encoded data removed]",
      "text/plain": [
       "<Figure size 1000x600 with 1 Axes>"
      ]
     },
     "metadata": {},
     "output_type": "display_data"
    }
   ],
   "source": [
    "# training and validation losses VS epochs\n",
    "plt.figure(figsize=(10, 6))\n",
    "plt.plot(train_losses, label='Training Loss')\n",
    "plt.plot(val_losses, label='Validation Loss')\n",
    "plt.xlabel('Epochs')\n",
    "plt.ylabel('Loss')\n",
    "plt.title('Training and Validation Loss')\n",
    "plt.legend()\n",
    "plt.show()"
   ]
  },
  {
   "cell_type": "code",
   "execution_count": 19,
   "id": "e998ed54",
   "metadata": {},
   "outputs": [
    {
     "data": {
      "image/png": "[encoded data removed]",
      "text/plain": [
       "<Figure size 640x480 with 1 Axes>"
      ]
     },
     "metadata": {},
     "output_type": "display_data"
    }
   ],
   "source": [
    "# training stage - scalered adj close VS day\n",
    "with torch.no_grad():\n",
    "    predicted = model(x_train.to(device)).to('cpu').numpy()\n",
    "\n",
    "plt.plot(y_train, label='Actual Adj Close')\n",
    "plt.plot(predicted, label='Predicted Adj Close')\n",
    "plt.xlabel('Day')\n",
    "plt.ylabel('Close')\n",
    "plt.legend()\n",
    "plt.show()"
   ]
  },
  {
   "cell_type": "code",
   "execution_count": 20,
   "id": "a0c56ca4",
   "metadata": {},
   "outputs": [
    {
     "data": {
      "text/plain": [
       "array([ 17.76078571,  17.76584144,  18.03115183, ..., 117.86726355,\n",
       "       116.64811768, 116.79242363])"
      ]
     },
     "execution_count": 20,
     "metadata": {},
     "output_type": "execute_result"
    }
   ],
   "source": [
    "#inverted back to original Adj Close price\n",
    "train_predictions = predicted.flatten()\n",
    "\n",
    "output = np.zeros((x_train.shape[0], sequence_length+1))\n",
    "output[:, 0] = train_predictions\n",
    "output = scaler.inverse_transform(output)\n",
    "\n",
    "train_predictions = dc(output[:, 0])\n",
    "train_predictions"
   ]
  },
  {
   "cell_type": "code",
   "execution_count": 21,
   "id": "56b22967",
   "metadata": {},
   "outputs": [
    {
     "data": {
      "text/plain": [
       "array([ 17.25923673,  17.73171391,  17.69038693, ..., 115.98165904,\n",
       "       116.58106208, 115.30362688])"
      ]
     },
     "execution_count": 21,
     "metadata": {},
     "output_type": "execute_result"
    }
   ],
   "source": [
    "output[:, 0] = y_train.flatten()\n",
    "output = scaler.inverse_transform(output)\n",
    "\n",
    "new_y_train = dc(output[:, 0])\n",
    "new_y_train"
   ]
  },
  {
   "cell_type": "code",
   "execution_count": 22,
   "id": "cad9156c",
   "metadata": {},
   "outputs": [
    {
     "data": {
      "image/png": "[encoded data removed]",
      "text/plain": [
       "<Figure size 640x480 with 1 Axes>"
      ]
     },
     "metadata": {},
     "output_type": "display_data"
    }
   ],
   "source": [
    "# training stage - actual adj close VS day\n",
    "plt.plot(new_y_train, label='Actual Adj Close')\n",
    "plt.plot(train_predictions, label='Predicted Adj Close')\n",
    "plt.xlabel('Day')\n",
    "plt.ylabel('Adj Close')\n",
    "plt.legend()\n",
    "plt.show()"
   ]
  },
  {
   "cell_type": "code",
   "execution_count": 23,
   "id": "efc982c3",
   "metadata": {},
   "outputs": [
    {
     "data": {
      "text/plain": [
       "array([147.96691703, 145.79434671, 146.81241576, 147.69390753,\n",
       "       145.81647426, 142.59683024, 139.67162482, 144.02816371,\n",
       "       145.33233827, 145.21792347, 144.2660947 , 141.36400274,\n",
       "       139.28706955, 140.13265005, 140.0803063 , 141.75834711,\n",
       "       142.82960074, 141.4086017 , 136.14474706, 133.41001538,\n",
       "       131.35195119, 130.99823535, 133.39002348, 131.62794524,\n",
       "       130.81704298, 129.26609391, 125.93379734, 127.86166435,\n",
       "       128.79677052, 125.33761323, 125.31394773, 124.4501161 ,\n",
       "       127.79854159, 129.09206339, 129.69993585, 131.78139825,\n",
       "       132.18915562, 133.2002267 , 134.26748571, 133.94089405,\n",
       "       133.85028847, 135.74031809, 138.57098509, 140.20094272,\n",
       "       139.97806608, 141.35158638, 143.06222349, 141.3226865 ,\n",
       "       141.78927518, 142.73108651, 146.78433791, 150.2088304 ,\n",
       "       148.94080888, 150.59568788, 149.03741042, 147.95212862,\n",
       "       147.9801984 , 150.00118543, 150.0013305 , 151.44755446,\n",
       "       150.61573351, 149.61011574, 146.53348552, 146.16940838,\n",
       "       146.50489726, 144.72267937, 145.17930703, 144.94956674,\n",
       "       143.41500717, 143.49461479, 147.17917389, 149.95632858,\n",
       "       148.94418832, 149.52427038, 148.03825066, 146.24072052,\n",
       "       147.24929329, 149.00587254, 149.67233723, 151.75775932,\n",
       "       151.58648768, 153.16378995, 154.75658178, 154.09162145,\n",
       "       154.6706236 , 155.67406541, 154.55224104, 153.8748751 ,\n",
       "       155.84470844, 157.33437624, 159.32101546, 160.53667443,\n",
       "       160.40815892, 159.13131001, 159.45250746, 157.78004354,\n",
       "       156.61618298, 155.90996015, 159.42527313, 159.92269049,\n",
       "       160.03066609, 160.84062006, 161.75325213, 161.29633435,\n",
       "       160.1286323 , 160.08663373, 159.05515168, 158.8444174 ,\n",
       "       161.86085701, 163.29231674, 163.51785287, 162.86778035,\n",
       "       162.0171495 , 160.75828847, 165.53297826, 166.42768693,\n",
       "       165.52136781, 166.45597968, 166.74970103, 166.21770483,\n",
       "       165.79211539, 165.70430899, 166.08211881, 167.64793957,\n",
       "       168.02488976, 167.49927635, 165.72065281, 165.53707227,\n",
       "       166.23146974, 167.91398065, 169.41026227, 169.67177415,\n",
       "       171.46618274, 172.3290849 , 171.66822933, 171.31168475,\n",
       "       170.38231665, 171.88400322, 172.40919756, 174.22409771,\n",
       "       174.28439577, 174.68502892, 175.97960243, 175.58418083,\n",
       "       175.56745554, 174.93662275, 176.61138082, 176.74005214,\n",
       "       175.94650109, 177.4297646 , 178.3969889 , 178.78740312,\n",
       "       181.3648    , 181.00014798, 180.30578275, 180.44118609,\n",
       "       179.81713904, 178.50741983, 177.94216111, 178.80414453,\n",
       "       179.40962882, 179.61824087, 181.53601791, 181.75340362,\n",
       "       182.57490358, 181.6293797 , 180.77874348, 181.06642051,\n",
       "       181.60652414, 182.20621664, 181.60690023, 182.95676443,\n",
       "       183.55228769, 183.21019036, 181.45403017, 180.30957052,\n",
       "       174.72398652, 171.69428703, 171.6501931 , 170.66043561,\n",
       "       170.34432076, 170.3197513 , 171.3431689 , 170.30967207,\n",
       "       169.56622702, 167.80921795, 167.76707969, 168.60445066,\n",
       "       169.64007509, 172.23230068, 169.82925938, 170.73813054,\n",
       "       171.86528466, 174.46188365, 177.04485741, 177.67260089,\n",
       "       178.72603589, 179.06392101, 175.16089091, 171.14682277,\n",
       "       170.70420718, 171.337909  , 169.59194624, 167.94990805,\n",
       "       168.5751156 , 168.24406996, 170.0295061 , 171.05084983,\n",
       "       169.04637318, 167.6697582 , 167.92533322, 168.78603255,\n",
       "       166.37578106, 164.91808633, 164.78451509, 165.10071053,\n",
       "       166.78784198, 166.26864898, 166.96407801, 167.87895051,\n",
       "       169.66719122, 170.93779701, 170.81793696, 171.65667261,\n",
       "       172.36702706, 171.37371282, 171.1001553 , 170.07373435,\n",
       "       169.05981035, 168.62099328, 166.91572351, 166.65454475,\n",
       "       166.88142405, 165.44944317, 162.45233999, 162.70197278,\n",
       "       164.10204506, 164.70725534, 166.86495129, 169.52973012,\n",
       "       169.4747027 , 171.05562618, 172.92579553, 173.93177328,\n",
       "       173.84206494, 176.34467352, 175.8718095 , 177.34862038,\n",
       "       177.95601199, 179.06460335, 179.26652636])"
      ]
     },
     "execution_count": 23,
     "metadata": {},
     "output_type": "execute_result"
    }
   ],
   "source": [
    "# Test for the prediction\n",
    "test_predictions = model(x_test.to(device)).detach().cpu().numpy().flatten()\n",
    "\n",
    "output = np.zeros((x_test.shape[0], sequence_length+1))\n",
    "output[:, 0] = test_predictions\n",
    "output = scaler.inverse_transform(output)\n",
    "\n",
    "test_predictions = dc(output[:, 0])\n",
    "test_predictions"
   ]
  },
  {
   "cell_type": "code",
   "execution_count": 24,
   "id": "bc4ca79f",
   "metadata": {},
   "outputs": [
    {
     "data": {
      "text/plain": [
       "array([147.1872867 , 149.34522979, 150.2302998 , 147.28674384,\n",
       "       143.418349  , 140.38531573, 147.20718458, 147.4856259 ,\n",
       "       146.98840465, 145.81497259, 142.11564656, 140.15660164,\n",
       "       141.85708699, 141.36981333, 143.68685885, 144.6614384 ,\n",
       "       142.41396964, 135.74127174, 133.76232895, 131.63423133,\n",
       "       131.56461965, 134.69709663, 131.49501067, 131.12707591,\n",
       "       129.30721942, 125.33940906, 128.88955743, 129.20777839,\n",
       "       124.37480128, 125.65763808, 124.32508077, 128.89949159,\n",
       "       129.42655832, 130.00332541, 132.74801543, 132.66845616,\n",
       "       134.0109248 , 135.18440253, 134.45845106, 134.51811245,\n",
       "       137.10365169, 140.32566777, 141.73774809, 141.07148757,\n",
       "       143.15980555, 145.11885047, 142.20513999, 143.48796067,\n",
       "       144.62162653, 149.98169051, 153.64122078, 150.88659929,\n",
       "       153.79037292, 151.07554718, 150.03138819, 150.39988708,\n",
       "       153.22843992, 152.58105377, 154.70244086, 153.08900703,\n",
       "       151.93368373, 147.88012608, 148.30838039, 148.79640085,\n",
       "       146.11729297, 147.32238648, 146.81443859, 144.72293189,\n",
       "       145.32052634, 150.41983063, 153.20852861, 150.98753125,\n",
       "       152.25239361, 149.98159918, 147.90005619, 149.86209103,\n",
       "       151.97351172, 152.37191519, 155.22034978, 154.3737807 ,\n",
       "       156.76408328, 158.63648768, 157.1923537 , 158.28788935,\n",
       "       159.60256759, 157.64051932, 157.01307671, 160.12046576,\n",
       "       161.70405412, 164.23376271, 165.49865731, 164.96085857,\n",
       "       163.09838833, 163.99476792, 161.37539933, 160.15035959,\n",
       "       159.45320054, 164.89112601, 164.5425438 , 164.56245511,\n",
       "       165.79745588, 166.95275769, 165.97671675, 164.35331653,\n",
       "       164.66204926, 163.10835473, 163.09838833, 167.72961569,\n",
       "       168.99447805, 168.90484493, 167.85908755, 166.77348069,\n",
       "       165.12019202, 172.86877483, 172.79904227, 171.07603715,\n",
       "       172.85880843, 173.04801959, 172.11053331, 171.61187485,\n",
       "       171.61187485, 172.23022681, 174.58392503, 174.69364676,\n",
       "       173.73619007, 171.10322313, 171.38247573, 172.52941759,\n",
       "       174.96292222, 176.8279445 , 176.7780749 , 179.61050415,\n",
       "       180.46821626, 179.10186855, 178.73286462, 177.34655725,\n",
       "       180.08923518, 180.4781934 , 183.30066163, 182.8219306 ,\n",
       "       183.46023685, 185.51475504, 184.42764382, 184.51741126,\n",
       "       183.47021399, 186.50210555, 186.18295511, 184.77672032,\n",
       "       187.55927997, 188.74612503, 189.08520289, 193.45355371,\n",
       "       191.94758507, 190.82058676, 191.29930167, 190.17230337,\n",
       "       188.10783489, 187.57923963, 189.26473777, 190.03268244,\n",
       "       190.18229663, 193.47349725, 193.21418819, 194.58055201,\n",
       "       192.61580126, 191.42897232, 192.2367987 , 193.1044772 ,\n",
       "       193.98214897, 192.70555259, 195.30860959, 195.92695618,\n",
       "       195.08918762, 192.06726246, 190.66101154, 181.50546324,\n",
       "       178.37381098, 179.3212744 , 177.7155773 , 177.49615533,\n",
       "       177.5560773 , 179.22389381, 177.21652126, 176.33769436,\n",
       "       173.77106979, 174.26042269, 175.60864283, 176.99680916,\n",
       "       180.88170095, 176.14793519, 178.37499835, 179.95292922,\n",
       "       183.87774571, 187.40310568, 187.62281778, 189.21073654,\n",
       "       189.4504083 , 182.66933991, 177.32638805, 177.94555667,\n",
       "       179.12400954, 176.06803743, 173.98078862, 175.50879079,\n",
       "       174.77972314, 177.73583783, 178.83439832, 175.25910965,\n",
       "       173.70115455, 174.56001105, 175.84832534, 171.73374968,\n",
       "       170.20574751, 170.46542191, 170.98474386, 173.52139402,\n",
       "       172.17317387, 173.43151912, 174.6798711 , 177.25648357,\n",
       "       178.75450057, 178.15528625, 179.56342836, 180.4722458 ,\n",
       "       178.61468623, 178.48486514, 176.91691678, 175.60864283,\n",
       "       175.22915672, 172.65254426, 172.77238283, 173.21180702,\n",
       "       170.87489318, 166.67042651, 167.99867087, 170.06593316,\n",
       "       170.54531966, 173.74110611, 177.33638132, 176.41757062,\n",
       "       178.99418845, 181.58077806, 182.64936951, 182.16999912,\n",
       "       186.3999916 , 184.8000057 , 187.44000016, 188.00999225,\n",
       "       189.71000749, 189.69000485, 191.44999578])"
      ]
     },
     "execution_count": 24,
     "metadata": {},
     "output_type": "execute_result"
    }
   ],
   "source": [
    "output = np.zeros((x_test.shape[0], sequence_length+1))\n",
    "output[:, 0] = y_test.flatten()\n",
    "output = scaler.inverse_transform(output)\n",
    "\n",
    "new_y_test = dc(output[:, 0])\n",
    "new_y_test"
   ]
  },
  {
   "cell_type": "code",
   "execution_count": 25,
   "id": "8f2d0ee7",
   "metadata": {},
   "outputs": [
    {
     "data": {
      "image/png": "[encoded data removed]",
      "text/plain": [
       "<Figure size 640x480 with 1 Axes>"
      ]
     },
     "metadata": {},
     "output_type": "display_data"
    }
   ],
   "source": [
    "#stock prediciton testing\n",
    "plt.plot(new_y_test, label='Actual Close')\n",
    "plt.plot(test_predictions, label='Predicted Close')\n",
    "plt.xlabel('Day')\n",
    "plt.ylabel('Close')\n",
    "plt.legend()\n",
    "plt.show()"
   ]
  }
 ],
 "metadata": {
  "kernelspec": {
   "display_name": "Python 3 (ipykernel)",
   "language": "python",
   "name": "python3"
  },
  "language_info": {
   "codemirror_mode": {
    "name": "ipython",
    "version": 3
   },
   "file_extension": ".py",
   "mimetype": "text/x-python",
   "name": "python",
   "nbconvert_exporter": "python",
   "pygments_lexer": "ipython3",
   "version": "3.11.5"
  }
 },
 "nbformat": 4,
 "nbformat_minor": 5
}
