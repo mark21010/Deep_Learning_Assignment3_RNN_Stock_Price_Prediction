{
 "cells": [
  {
   "cell_type": "markdown",
   "id": "3c0340e9",
   "metadata": {},
   "source": [
    "## RNN-LSTM for stock price prediction"
   ]
  },
  {
   "cell_type": "markdown",
   "id": "d3a5293e",
   "metadata": {},
   "source": [
    "### Imports"
   ]
  },
  {
   "cell_type": "code",
   "execution_count": 1,
   "id": "b123c99e",
   "metadata": {},
   "outputs": [],
   "source": [
    "import yfinance as yf\n",
    "import torch\n",
    "import torch.nn as nn\n",
    "import numpy as np\n",
    "import pandas as pd\n",
    "import matplotlib.pyplot as plt\n",
    "import time\n",
    "from sklearn.preprocessing import MinMaxScaler\n",
    "from torch.utils.data import DataLoader, Dataset\n",
    "from copy import deepcopy as dc"
   ]
  },
  {
   "cell_type": "markdown",
   "id": "8d109168",
   "metadata": {},
   "source": [
    "### GPU setting"
   ]
  },
  {
   "cell_type": "code",
   "execution_count": 2,
   "id": "be931a9a",
   "metadata": {},
   "outputs": [],
   "source": [
    "#use GPU\n",
    "device = 'cuda:0' if torch.cuda.is_available() else 'cpu'"
   ]
  },
  {
   "cell_type": "markdown",
   "id": "312b10e3",
   "metadata": {},
   "source": [
    "### Data download"
   ]
  },
  {
   "cell_type": "code",
   "execution_count": 3,
   "id": "d7199f80",
   "metadata": {},
   "outputs": [
    {
     "name": "stdout",
     "output_type": "stream",
     "text": [
      "[*********************100%%**********************]  1 of 1 completed\n"
     ]
    },
    {
     "data": {
      "text/html": [
       "<div>\n",
       "<style scoped>\n",
       "    .dataframe tbody tr th:only-of-type {\n",
       "        vertical-align: middle;\n",
       "    }\n",
       "\n",
       "    .dataframe tbody tr th {\n",
       "        vertical-align: top;\n",
       "    }\n",
       "\n",
       "    .dataframe thead th {\n",
       "        text-align: right;\n",
       "    }\n",
       "</style>\n",
       "<table border=\"1\" class=\"dataframe\">\n",
       "  <thead>\n",
       "    <tr style=\"text-align: right;\">\n",
       "      <th></th>\n",
       "      <th>Open</th>\n",
       "      <th>High</th>\n",
       "      <th>Low</th>\n",
       "      <th>Close</th>\n",
       "      <th>Adj Close</th>\n",
       "      <th>Volume</th>\n",
       "    </tr>\n",
       "    <tr>\n",
       "      <th>Date</th>\n",
       "      <th></th>\n",
       "      <th></th>\n",
       "      <th></th>\n",
       "      <th></th>\n",
       "      <th></th>\n",
       "      <th></th>\n",
       "    </tr>\n",
       "  </thead>\n",
       "  <tbody>\n",
       "    <tr>\n",
       "      <th>2013-11-20</th>\n",
       "      <td>18.543928</td>\n",
       "      <td>18.586430</td>\n",
       "      <td>18.368929</td>\n",
       "      <td>18.392857</td>\n",
       "      <td>16.124863</td>\n",
       "      <td>193916800</td>\n",
       "    </tr>\n",
       "    <tr>\n",
       "      <th>2013-11-21</th>\n",
       "      <td>18.485714</td>\n",
       "      <td>18.614643</td>\n",
       "      <td>18.345358</td>\n",
       "      <td>18.612143</td>\n",
       "      <td>16.317110</td>\n",
       "      <td>262026800</td>\n",
       "    </tr>\n",
       "    <tr>\n",
       "      <th>2013-11-22</th>\n",
       "      <td>18.554285</td>\n",
       "      <td>18.648571</td>\n",
       "      <td>18.518929</td>\n",
       "      <td>18.564285</td>\n",
       "      <td>16.275150</td>\n",
       "      <td>223725600</td>\n",
       "    </tr>\n",
       "    <tr>\n",
       "      <th>2013-11-25</th>\n",
       "      <td>18.607857</td>\n",
       "      <td>18.781071</td>\n",
       "      <td>18.607143</td>\n",
       "      <td>18.705000</td>\n",
       "      <td>16.398510</td>\n",
       "      <td>229311600</td>\n",
       "    </tr>\n",
       "    <tr>\n",
       "      <th>2013-11-26</th>\n",
       "      <td>18.718571</td>\n",
       "      <td>19.147858</td>\n",
       "      <td>18.714287</td>\n",
       "      <td>19.049999</td>\n",
       "      <td>16.700972</td>\n",
       "      <td>401382800</td>\n",
       "    </tr>\n",
       "    <tr>\n",
       "      <th>...</th>\n",
       "      <td>...</td>\n",
       "      <td>...</td>\n",
       "      <td>...</td>\n",
       "      <td>...</td>\n",
       "      <td>...</td>\n",
       "      <td>...</td>\n",
       "    </tr>\n",
       "    <tr>\n",
       "      <th>2023-11-14</th>\n",
       "      <td>187.699997</td>\n",
       "      <td>188.110001</td>\n",
       "      <td>186.300003</td>\n",
       "      <td>187.440002</td>\n",
       "      <td>187.440002</td>\n",
       "      <td>60108400</td>\n",
       "    </tr>\n",
       "    <tr>\n",
       "      <th>2023-11-15</th>\n",
       "      <td>187.850006</td>\n",
       "      <td>189.500000</td>\n",
       "      <td>187.779999</td>\n",
       "      <td>188.009995</td>\n",
       "      <td>188.009995</td>\n",
       "      <td>53790500</td>\n",
       "    </tr>\n",
       "    <tr>\n",
       "      <th>2023-11-16</th>\n",
       "      <td>189.570007</td>\n",
       "      <td>190.960007</td>\n",
       "      <td>188.649994</td>\n",
       "      <td>189.710007</td>\n",
       "      <td>189.710007</td>\n",
       "      <td>54412900</td>\n",
       "    </tr>\n",
       "    <tr>\n",
       "      <th>2023-11-17</th>\n",
       "      <td>190.250000</td>\n",
       "      <td>190.380005</td>\n",
       "      <td>188.570007</td>\n",
       "      <td>189.690002</td>\n",
       "      <td>189.690002</td>\n",
       "      <td>50922700</td>\n",
       "    </tr>\n",
       "    <tr>\n",
       "      <th>2023-11-20</th>\n",
       "      <td>189.889999</td>\n",
       "      <td>191.910004</td>\n",
       "      <td>189.880005</td>\n",
       "      <td>191.449997</td>\n",
       "      <td>191.449997</td>\n",
       "      <td>46505100</td>\n",
       "    </tr>\n",
       "  </tbody>\n",
       "</table>\n",
       "<p>2517 rows × 6 columns</p>\n",
       "</div>"
      ],
      "text/plain": [
       "                  Open        High         Low       Close   Adj Close  \\\n",
       "Date                                                                     \n",
       "2013-11-20   18.543928   18.586430   18.368929   18.392857   16.124863   \n",
       "2013-11-21   18.485714   18.614643   18.345358   18.612143   16.317110   \n",
       "2013-11-22   18.554285   18.648571   18.518929   18.564285   16.275150   \n",
       "2013-11-25   18.607857   18.781071   18.607143   18.705000   16.398510   \n",
       "2013-11-26   18.718571   19.147858   18.714287   19.049999   16.700972   \n",
       "...                ...         ...         ...         ...         ...   \n",
       "2023-11-14  187.699997  188.110001  186.300003  187.440002  187.440002   \n",
       "2023-11-15  187.850006  189.500000  187.779999  188.009995  188.009995   \n",
       "2023-11-16  189.570007  190.960007  188.649994  189.710007  189.710007   \n",
       "2023-11-17  190.250000  190.380005  188.570007  189.690002  189.690002   \n",
       "2023-11-20  189.889999  191.910004  189.880005  191.449997  191.449997   \n",
       "\n",
       "               Volume  \n",
       "Date                   \n",
       "2013-11-20  193916800  \n",
       "2013-11-21  262026800  \n",
       "2013-11-22  223725600  \n",
       "2013-11-25  229311600  \n",
       "2013-11-26  401382800  \n",
       "...               ...  \n",
       "2023-11-14   60108400  \n",
       "2023-11-15   53790500  \n",
       "2023-11-16   54412900  \n",
       "2023-11-17   50922700  \n",
       "2023-11-20   46505100  \n",
       "\n",
       "[2517 rows x 6 columns]"
      ]
     },
     "execution_count": 3,
     "metadata": {},
     "output_type": "execute_result"
    }
   ],
   "source": [
    "# Download data\n",
    "start, end, stock = '2013-11-20', '2023-11-21', 'AAPL'\n",
    "data = yf.download(stock, start, end)\n",
    "data"
   ]
  },
  {
   "cell_type": "markdown",
   "id": "cfc747e5",
   "metadata": {},
   "source": [
    "### Data analysis"
   ]
  },
  {
   "cell_type": "code",
   "execution_count": 4,
   "id": "0872be7f",
   "metadata": {},
   "outputs": [
    {
     "data": {
      "text/html": [
       "<div>\n",
       "<style scoped>\n",
       "    .dataframe tbody tr th:only-of-type {\n",
       "        vertical-align: middle;\n",
       "    }\n",
       "\n",
       "    .dataframe tbody tr th {\n",
       "        vertical-align: top;\n",
       "    }\n",
       "\n",
       "    .dataframe thead th {\n",
       "        text-align: right;\n",
       "    }\n",
       "</style>\n",
       "<table border=\"1\" class=\"dataframe\">\n",
       "  <thead>\n",
       "    <tr style=\"text-align: right;\">\n",
       "      <th></th>\n",
       "      <th>Open</th>\n",
       "      <th>High</th>\n",
       "      <th>Low</th>\n",
       "      <th>Close</th>\n",
       "      <th>Adj Close</th>\n",
       "      <th>Volume</th>\n",
       "    </tr>\n",
       "  </thead>\n",
       "  <tbody>\n",
       "    <tr>\n",
       "      <th>count</th>\n",
       "      <td>2517.000000</td>\n",
       "      <td>2517.000000</td>\n",
       "      <td>2517.000000</td>\n",
       "      <td>2517.000000</td>\n",
       "      <td>2517.000000</td>\n",
       "      <td>2.517000e+03</td>\n",
       "    </tr>\n",
       "    <tr>\n",
       "      <th>mean</th>\n",
       "      <td>75.971851</td>\n",
       "      <td>76.810181</td>\n",
       "      <td>75.188264</td>\n",
       "      <td>76.036297</td>\n",
       "      <td>74.074326</td>\n",
       "      <td>1.396766e+08</td>\n",
       "    </tr>\n",
       "    <tr>\n",
       "      <th>std</th>\n",
       "      <td>55.182104</td>\n",
       "      <td>55.834343</td>\n",
       "      <td>54.585715</td>\n",
       "      <td>55.240677</td>\n",
       "      <td>55.715299</td>\n",
       "      <td>8.640815e+07</td>\n",
       "    </tr>\n",
       "    <tr>\n",
       "      <th>min</th>\n",
       "      <td>17.684999</td>\n",
       "      <td>17.911785</td>\n",
       "      <td>17.626785</td>\n",
       "      <td>17.849285</td>\n",
       "      <td>15.648318</td>\n",
       "      <td>3.145820e+07</td>\n",
       "    </tr>\n",
       "    <tr>\n",
       "      <th>25%</th>\n",
       "      <td>29.377501</td>\n",
       "      <td>29.552500</td>\n",
       "      <td>29.122499</td>\n",
       "      <td>29.367500</td>\n",
       "      <td>26.946928</td>\n",
       "      <td>8.277270e+07</td>\n",
       "    </tr>\n",
       "    <tr>\n",
       "      <th>50%</th>\n",
       "      <td>47.382500</td>\n",
       "      <td>47.820000</td>\n",
       "      <td>46.912498</td>\n",
       "      <td>47.487499</td>\n",
       "      <td>45.411919</td>\n",
       "      <td>1.138600e+08</td>\n",
       "    </tr>\n",
       "    <tr>\n",
       "      <th>75%</th>\n",
       "      <td>132.429993</td>\n",
       "      <td>134.070007</td>\n",
       "      <td>130.929993</td>\n",
       "      <td>132.300003</td>\n",
       "      <td>130.748169</td>\n",
       "      <td>1.698056e+08</td>\n",
       "    </tr>\n",
       "    <tr>\n",
       "      <th>max</th>\n",
       "      <td>196.240005</td>\n",
       "      <td>198.229996</td>\n",
       "      <td>195.279999</td>\n",
       "      <td>196.449997</td>\n",
       "      <td>195.926956</td>\n",
       "      <td>1.065523e+09</td>\n",
       "    </tr>\n",
       "  </tbody>\n",
       "</table>\n",
       "</div>"
      ],
      "text/plain": [
       "              Open         High          Low        Close    Adj Close  \\\n",
       "count  2517.000000  2517.000000  2517.000000  2517.000000  2517.000000   \n",
       "mean     75.971851    76.810181    75.188264    76.036297    74.074326   \n",
       "std      55.182104    55.834343    54.585715    55.240677    55.715299   \n",
       "min      17.684999    17.911785    17.626785    17.849285    15.648318   \n",
       "25%      29.377501    29.552500    29.122499    29.367500    26.946928   \n",
       "50%      47.382500    47.820000    46.912498    47.487499    45.411919   \n",
       "75%     132.429993   134.070007   130.929993   132.300003   130.748169   \n",
       "max     196.240005   198.229996   195.279999   196.449997   195.926956   \n",
       "\n",
       "             Volume  \n",
       "count  2.517000e+03  \n",
       "mean   1.396766e+08  \n",
       "std    8.640815e+07  \n",
       "min    3.145820e+07  \n",
       "25%    8.277270e+07  \n",
       "50%    1.138600e+08  \n",
       "75%    1.698056e+08  \n",
       "max    1.065523e+09  "
      ]
     },
     "execution_count": 4,
     "metadata": {},
     "output_type": "execute_result"
    }
   ],
   "source": [
    "data.describe()"
   ]
  },
  {
   "cell_type": "code",
   "execution_count": 5,
   "id": "07196ad9",
   "metadata": {},
   "outputs": [
    {
     "name": "stdout",
     "output_type": "stream",
     "text": [
      "<class 'pandas.core.frame.DataFrame'>\n",
      "DatetimeIndex: 2517 entries, 2013-11-20 to 2023-11-20\n",
      "Data columns (total 6 columns):\n",
      " #   Column     Non-Null Count  Dtype  \n",
      "---  ------     --------------  -----  \n",
      " 0   Open       2517 non-null   float64\n",
      " 1   High       2517 non-null   float64\n",
      " 2   Low        2517 non-null   float64\n",
      " 3   Close      2517 non-null   float64\n",
      " 4   Adj Close  2517 non-null   float64\n",
      " 5   Volume     2517 non-null   int64  \n",
      "dtypes: float64(5), int64(1)\n",
      "memory usage: 137.6 KB\n"
     ]
    }
   ],
   "source": [
    "data.info()"
   ]
  },
  {
   "cell_type": "code",
   "execution_count": 6,
   "id": "78a3c938",
   "metadata": {},
   "outputs": [
    {
     "data": {
      "text/plain": [
       "Open         0\n",
       "High         0\n",
       "Low          0\n",
       "Close        0\n",
       "Adj Close    0\n",
       "Volume       0\n",
       "dtype: int64"
      ]
     },
     "execution_count": 6,
     "metadata": {},
     "output_type": "execute_result"
    }
   ],
   "source": [
    "data.isnull().sum()"
   ]
  },
  {
   "cell_type": "markdown",
   "id": "f5fd2eb4",
   "metadata": {},
   "source": [
    "### Data preprocessing"
   ]
  },
  {
   "cell_type": "code",
   "execution_count": 7,
   "id": "9bd6037a",
   "metadata": {},
   "outputs": [
    {
     "data": {
      "image/png": "[encoded data removed]",
      "text/plain": [
       "<Figure size 1000x600 with 1 Axes>"
      ]
     },
     "metadata": {},
     "output_type": "display_data"
    }
   ],
   "source": [
    "#Apple stock Adj Close VS Time\n",
    "AdjClose_df = pd.DataFrame(data['Adj Close'])\n",
    "\n",
    "plt.figure(figsize=(10, 6))\n",
    "plt.plot(AdjClose_df, label='Actual Adj Close')\n",
    "plt.xlabel('Time')\n",
    "plt.ylabel('AppleStock_AdjClose')\n",
    "plt.show()"
   ]
  },
  {
   "cell_type": "code",
   "execution_count": 8,
   "id": "34e6b03b",
   "metadata": {},
   "outputs": [
    {
     "name": "stdout",
     "output_type": "stream",
     "text": [
      "[[-0.99471325]\n",
      " [-0.99258047]\n",
      " [-0.99304596]\n",
      " ...\n",
      " [ 0.93102955]\n",
      " [ 0.93080762]\n",
      " [ 0.95033289]]\n"
     ]
    }
   ],
   "source": [
    "#using MinMaxScaler() convert Adj Close to a new value between -1 and 1\n",
    "scaler = MinMaxScaler(feature_range=(-1, 1))\n",
    "scalered_AdjClose_df = scaler.fit_transform(AdjClose_df)\n",
    "print(scalered_AdjClose_df)"
   ]
  },
  {
   "cell_type": "code",
   "execution_count": 9,
   "id": "e66d53ed",
   "metadata": {},
   "outputs": [
    {
     "name": "stdout",
     "output_type": "stream",
     "text": [
      "[[[-0.99471325]\n",
      "  [-0.99258047]\n",
      "  [-0.99304596]\n",
      "  ...\n",
      "  [-0.98832193]\n",
      "  [-0.98395916]\n",
      "  [-0.98044734]]\n",
      "\n",
      " [[-0.99258047]\n",
      "  [-0.99304596]\n",
      "  [-0.99167742]\n",
      "  ...\n",
      "  [-0.98395916]\n",
      "  [-0.98044734]\n",
      "  [-0.98212856]]\n",
      "\n",
      " [[-0.99304596]\n",
      "  [-0.99167742]\n",
      "  [-0.98832193]\n",
      "  ...\n",
      "  [-0.98044734]\n",
      "  [-0.98212856]\n",
      "  [-0.976887  ]]\n",
      "\n",
      " ...\n",
      "\n",
      " [[ 0.84084441]\n",
      "  [ 0.85269927]\n",
      "  [ 0.84738116]\n",
      "  ...\n",
      "  [ 0.87655827]\n",
      "  [ 0.90584626]\n",
      "  [ 0.91216972]]\n",
      "\n",
      " [[ 0.85269927]\n",
      "  [ 0.84738116]\n",
      "  [ 0.89430847]\n",
      "  ...\n",
      "  [ 0.90584626]\n",
      "  [ 0.91216972]\n",
      "  [ 0.93102955]]\n",
      "\n",
      " [[ 0.84738116]\n",
      "  [ 0.89430847]\n",
      "  [ 0.87655827]\n",
      "  ...\n",
      "  [ 0.91216972]\n",
      "  [ 0.93102955]\n",
      "  [ 0.93080762]]]\n",
      "[[-0.98212856]\n",
      " [-0.976887  ]\n",
      " [-0.97734541]\n",
      " ...\n",
      " [ 0.93102955]\n",
      " [ 0.93080762]\n",
      " [ 0.95033289]]\n"
     ]
    }
   ],
   "source": [
    "# Create sequences values\n",
    "def create_sequences(data, sequence_length):\n",
    "    xs, ys = [], []\n",
    "    for i in range(len(data) - sequence_length):\n",
    "        x = data[i:(i + sequence_length)]\n",
    "        y = data[i + sequence_length]\n",
    "        xs.append(x)\n",
    "        ys.append(y)\n",
    "    return np.array(xs), np.array(ys)\n",
    "\n",
    "sequence_length = 7 #set how many days adjclose value to be in one input\n",
    "x, y = create_sequences(scalered_AdjClose_df, sequence_length)\n",
    "\n",
    "print(x)\n",
    "print(y)"
   ]
  },
  {
   "cell_type": "markdown",
   "id": "d22e13ad",
   "metadata": {},
   "source": [
    "### Dataset setting"
   ]
  },
  {
   "cell_type": "code",
   "execution_count": 10,
   "id": "5159c221",
   "metadata": {},
   "outputs": [
    {
     "data": {
      "text/plain": [
       "((1757, 7, 1), (502, 7, 1), (251, 7, 1), (1757, 1), (502, 1), (251, 1))"
      ]
     },
     "execution_count": 10,
     "metadata": {},
     "output_type": "execute_result"
    }
   ],
   "source": [
    "# Split the dataset (training, validation, testing) - (70%, 20%, 10%)\n",
    "train_size = int(len(x) * 0.7)\n",
    "val_size = int(len(x) * 0.9)\n",
    "\n",
    "x_train, y_train = x[:train_size], y[:train_size]\n",
    "x_val, y_val = x[train_size:val_size], y[train_size:val_size]\n",
    "x_test, y_test = x[val_size:], y[val_size:]\n",
    "\n",
    "x_train.shape, x_val.shape, x_test.shape, y_train.shape, y_val.shape, y_test.shape"
   ]
  },
  {
   "cell_type": "code",
   "execution_count": 11,
   "id": "9022fa67",
   "metadata": {},
   "outputs": [
    {
     "data": {
      "text/plain": [
       "(torch.Size([1757, 7, 1]),\n",
       " torch.Size([502, 7, 1]),\n",
       " torch.Size([251, 7, 1]),\n",
       " torch.Size([1757, 1]),\n",
       " torch.Size([502, 1]),\n",
       " torch.Size([251, 1]))"
      ]
     },
     "execution_count": 11,
     "metadata": {},
     "output_type": "execute_result"
    }
   ],
   "source": [
    "# Convert to PyTorch tensors\n",
    "x_train = torch.tensor(x_train).float()\n",
    "y_train = torch.tensor(y_train).float()\n",
    "x_val = torch.tensor(x_val).float()\n",
    "y_val = torch.tensor(y_val).float()\n",
    "x_test = torch.tensor(x_test).float()\n",
    "y_test = torch.tensor(y_test).float()\n",
    "\n",
    "x_train.shape, x_val.shape, x_test.shape, y_train.shape, y_val.shape, y_test.shape"
   ]
  },
  {
   "cell_type": "code",
   "execution_count": 12,
   "id": "91cbd5d9",
   "metadata": {},
   "outputs": [],
   "source": [
    "# Dataset class\n",
    "class TimeSeriesDataset(Dataset):\n",
    "    def __init__(self, x, y):\n",
    "        self.x = x\n",
    "        self.y = y\n",
    "    def __len__(self):\n",
    "        return len(self.x)\n",
    "    def __getitem__(self, i):\n",
    "        return self.x[i], self.y[i]"
   ]
  },
  {
   "cell_type": "code",
   "execution_count": 13,
   "id": "b9732d84",
   "metadata": {},
   "outputs": [],
   "source": [
    "# Create datasets and dataloaders\n",
    "batch_size = 8\n",
    "train_dataset = TimeSeriesDataset(x_train, y_train)\n",
    "val_dataset = TimeSeriesDataset(x_val, y_val)\n",
    "test_dataset = TimeSeriesDataset(x_test, y_test)\n",
    "\n",
    "train_loader = DataLoader(train_dataset, batch_size=batch_size, shuffle=True)\n",
    "val_loader = DataLoader(val_dataset, batch_size=batch_size, shuffle=False)\n",
    "test_loader = DataLoader(test_dataset, batch_size=batch_size, shuffle=False)"
   ]
  },
  {
   "cell_type": "markdown",
   "id": "996c3f27",
   "metadata": {},
   "source": [
    "### Model"
   ]
  },
  {
   "cell_type": "code",
   "execution_count": 14,
   "id": "675b9c38",
   "metadata": {},
   "outputs": [],
   "source": [
    "# LSTM Model\n",
    "class LSTM(nn.Module):\n",
    "    def __init__(self, input_size, hidden_size, num_stacked_layers):\n",
    "        super().__init__()\n",
    "        self.hidden_size = hidden_size\n",
    "        self.num_stacked_layers = num_stacked_layers\n",
    "        self.lstm = nn.LSTM(input_size, hidden_size, num_stacked_layers, batch_first=True)\n",
    "        self.fc = nn.Linear(hidden_size, 1)\n",
    "    def forward(self, x):\n",
    "        batch_size = x.size(0)\n",
    "        h0 = torch.zeros(self.num_stacked_layers, batch_size, self.hidden_size).to(device)\n",
    "        c0 = torch.zeros(self.num_stacked_layers, batch_size, self.hidden_size).to(device)\n",
    "        out, _ = self.lstm(x, (h0, c0))\n",
    "        out = self.fc(out[:, -1, :])\n",
    "        return out"
   ]
  },
  {
   "cell_type": "code",
   "execution_count": 15,
   "id": "d1d52f4e",
   "metadata": {},
   "outputs": [],
   "source": [
    "# Define training and validation functions\n",
    "def train_one_epoch(model, train_loader, loss_function, optimizer):\n",
    "    model.train()\n",
    "    running_loss = 0.0\n",
    "    for i, (x_batch, y_batch) in enumerate(train_loader):\n",
    "        x_batch, y_batch = x_batch.to(device), y_batch.to(device)\n",
    "        optimizer.zero_grad()\n",
    "        y_pred = model(x_batch)\n",
    "        loss = loss_function(y_pred, y_batch)        \n",
    "        loss.backward()\n",
    "        optimizer.step()\n",
    "        running_loss += loss.item()\n",
    "        \n",
    "\n",
    "        # Print every 100 batches\n",
    "        if (i + 1) % 100 == 0:\n",
    "            print(f'Training - Epoch [{epoch+1}/{num_epochs}], Batch: {i+1}, Loss: {running_loss / (i+1):.4f}')\n",
    "    \n",
    "    return running_loss / len(train_loader)\n",
    "\n",
    "def validate_one_epoch(model, val_loader, loss_function):\n",
    "    model.eval()\n",
    "    running_loss = 0.0\n",
    "    for i, (x_batch, y_batch) in enumerate(val_loader):\n",
    "        x_batch, y_batch = x_batch.to(device), y_batch.to(device)\n",
    "        with torch.no_grad():\n",
    "            y_pred = model(x_batch)\n",
    "            loss = loss_function(y_pred, y_batch)\n",
    "            running_loss += loss.item()\n",
    "\n",
    "        # Print every 100 batches\n",
    "        if (i + 1) % 100 == 0:\n",
    "            print(f'Validation - Epoch [{epoch+1}/{num_epochs}], Batch: {i+1}, Loss: {running_loss / (i+1):.4f}')\n",
    "    \n",
    "    return running_loss / len(val_loader)\n"
   ]
  },
  {
   "cell_type": "markdown",
   "id": "02e8a99c",
   "metadata": {},
   "source": [
    "### Model initialization"
   ]
  },
  {
   "cell_type": "code",
   "execution_count": 16,
   "id": "bb6fde83",
   "metadata": {},
   "outputs": [],
   "source": [
    "# Initialize model, loss function, and optimizer\n",
    "model = LSTM(1, 4, 1).to(device)\n",
    "loss_function = nn.MSELoss()\n",
    "optimizer = torch.optim.Adam(model.parameters(), lr=0.001)"
   ]
  },
  {
   "cell_type": "markdown",
   "id": "9f0bc5ea",
   "metadata": {},
   "source": [
    "### Model Training"
   ]
  },
  {
   "cell_type": "code",
   "execution_count": 17,
   "id": "c1d5d91c",
   "metadata": {
    "scrolled": false
   },
   "outputs": [
    {
     "name": "stdout",
     "output_type": "stream",
     "text": [
      "Training - Epoch [1/75], Batch: 100, Loss: 0.1626\n",
      "Training - Epoch [1/75], Batch: 200, Loss: 0.1080\n",
      "Epoch 1/75, Training Loss: 0.1027, Validation Loss: 0.9758\n",
      "Training - Epoch [2/75], Batch: 100, Loss: 0.0421\n",
      "Training - Epoch [2/75], Batch: 200, Loss: 0.0370\n",
      "Epoch 2/75, Training Loss: 0.0354, Validation Loss: 0.5606\n",
      "Training - Epoch [3/75], Batch: 100, Loss: 0.0108\n",
      "Training - Epoch [3/75], Batch: 200, Loss: 0.0078\n",
      "Epoch 3/75, Training Loss: 0.0074, Validation Loss: 0.3241\n",
      "Training - Epoch [4/75], Batch: 100, Loss: 0.0032\n",
      "Training - Epoch [4/75], Batch: 200, Loss: 0.0031\n",
      "Epoch 4/75, Training Loss: 0.0030, Validation Loss: 0.2417\n",
      "Training - Epoch [5/75], Batch: 100, Loss: 0.0023\n",
      "Training - Epoch [5/75], Batch: 200, Loss: 0.0019\n",
      "Epoch 5/75, Training Loss: 0.0019, Validation Loss: 0.1943\n",
      "Training - Epoch [6/75], Batch: 100, Loss: 0.0013\n",
      "Training - Epoch [6/75], Batch: 200, Loss: 0.0013\n",
      "Epoch 6/75, Training Loss: 0.0013, Validation Loss: 0.1582\n",
      "Training - Epoch [7/75], Batch: 100, Loss: 0.0010\n",
      "Training - Epoch [7/75], Batch: 200, Loss: 0.0010\n",
      "Epoch 7/75, Training Loss: 0.0010, Validation Loss: 0.1324\n",
      "Training - Epoch [8/75], Batch: 100, Loss: 0.0008\n",
      "Training - Epoch [8/75], Batch: 200, Loss: 0.0008\n",
      "Epoch 8/75, Training Loss: 0.0008, Validation Loss: 0.1153\n",
      "Training - Epoch [9/75], Batch: 100, Loss: 0.0006\n",
      "Training - Epoch [9/75], Batch: 200, Loss: 0.0007\n",
      "Epoch 9/75, Training Loss: 0.0006, Validation Loss: 0.1015\n",
      "Training - Epoch [10/75], Batch: 100, Loss: 0.0006\n",
      "Training - Epoch [10/75], Batch: 200, Loss: 0.0006\n",
      "Epoch 10/75, Training Loss: 0.0006, Validation Loss: 0.0913\n",
      "Training - Epoch [11/75], Batch: 100, Loss: 0.0005\n",
      "Training - Epoch [11/75], Batch: 200, Loss: 0.0005\n",
      "Epoch 11/75, Training Loss: 0.0005, Validation Loss: 0.0839\n",
      "Training - Epoch [12/75], Batch: 100, Loss: 0.0005\n",
      "Training - Epoch [12/75], Batch: 200, Loss: 0.0004\n",
      "Epoch 12/75, Training Loss: 0.0005, Validation Loss: 0.0781\n",
      "Training - Epoch [13/75], Batch: 100, Loss: 0.0004\n",
      "Training - Epoch [13/75], Batch: 200, Loss: 0.0004\n",
      "Epoch 13/75, Training Loss: 0.0004, Validation Loss: 0.0719\n",
      "Training - Epoch [14/75], Batch: 100, Loss: 0.0004\n",
      "Training - Epoch [14/75], Batch: 200, Loss: 0.0004\n",
      "Epoch 14/75, Training Loss: 0.0004, Validation Loss: 0.0674\n",
      "Training - Epoch [15/75], Batch: 100, Loss: 0.0004\n",
      "Training - Epoch [15/75], Batch: 200, Loss: 0.0004\n",
      "Epoch 15/75, Training Loss: 0.0004, Validation Loss: 0.0637\n",
      "Training - Epoch [16/75], Batch: 100, Loss: 0.0004\n",
      "Training - Epoch [16/75], Batch: 200, Loss: 0.0004\n",
      "Epoch 16/75, Training Loss: 0.0003, Validation Loss: 0.0585\n",
      "Training - Epoch [17/75], Batch: 100, Loss: 0.0004\n",
      "Training - Epoch [17/75], Batch: 200, Loss: 0.0003\n",
      "Epoch 17/75, Training Loss: 0.0003, Validation Loss: 0.0545\n",
      "Training - Epoch [18/75], Batch: 100, Loss: 0.0003\n",
      "Training - Epoch [18/75], Batch: 200, Loss: 0.0003\n",
      "Epoch 18/75, Training Loss: 0.0003, Validation Loss: 0.0530\n",
      "Training - Epoch [19/75], Batch: 100, Loss: 0.0003\n",
      "Training - Epoch [19/75], Batch: 200, Loss: 0.0003\n",
      "Epoch 19/75, Training Loss: 0.0003, Validation Loss: 0.0495\n",
      "Training - Epoch [20/75], Batch: 100, Loss: 0.0003\n",
      "Training - Epoch [20/75], Batch: 200, Loss: 0.0003\n",
      "Epoch 20/75, Training Loss: 0.0003, Validation Loss: 0.0475\n",
      "Training - Epoch [21/75], Batch: 100, Loss: 0.0002\n",
      "Training - Epoch [21/75], Batch: 200, Loss: 0.0003\n",
      "Epoch 21/75, Training Loss: 0.0003, Validation Loss: 0.0457\n",
      "Training - Epoch [22/75], Batch: 100, Loss: 0.0003\n",
      "Training - Epoch [22/75], Batch: 200, Loss: 0.0003\n",
      "Epoch 22/75, Training Loss: 0.0003, Validation Loss: 0.0419\n",
      "Training - Epoch [23/75], Batch: 100, Loss: 0.0003\n",
      "Training - Epoch [23/75], Batch: 200, Loss: 0.0003\n",
      "Epoch 23/75, Training Loss: 0.0003, Validation Loss: 0.0379\n",
      "Training - Epoch [24/75], Batch: 100, Loss: 0.0003\n",
      "Training - Epoch [24/75], Batch: 200, Loss: 0.0003\n",
      "Epoch 24/75, Training Loss: 0.0003, Validation Loss: 0.0373\n",
      "Training - Epoch [25/75], Batch: 100, Loss: 0.0003\n",
      "Training - Epoch [25/75], Batch: 200, Loss: 0.0003\n",
      "Epoch 25/75, Training Loss: 0.0003, Validation Loss: 0.0343\n",
      "Training - Epoch [26/75], Batch: 100, Loss: 0.0002\n",
      "Training - Epoch [26/75], Batch: 200, Loss: 0.0002\n",
      "Epoch 26/75, Training Loss: 0.0002, Validation Loss: 0.0314\n",
      "Training - Epoch [27/75], Batch: 100, Loss: 0.0002\n",
      "Training - Epoch [27/75], Batch: 200, Loss: 0.0002\n",
      "Epoch 27/75, Training Loss: 0.0002, Validation Loss: 0.0314\n",
      "Training - Epoch [28/75], Batch: 100, Loss: 0.0003\n",
      "Training - Epoch [28/75], Batch: 200, Loss: 0.0002\n",
      "Epoch 28/75, Training Loss: 0.0002, Validation Loss: 0.0290\n",
      "Training - Epoch [29/75], Batch: 100, Loss: 0.0002\n",
      "Training - Epoch [29/75], Batch: 200, Loss: 0.0002\n",
      "Epoch 29/75, Training Loss: 0.0002, Validation Loss: 0.0249\n",
      "Training - Epoch [30/75], Batch: 100, Loss: 0.0002\n",
      "Training - Epoch [30/75], Batch: 200, Loss: 0.0002\n",
      "Epoch 30/75, Training Loss: 0.0002, Validation Loss: 0.0246\n",
      "Training - Epoch [31/75], Batch: 100, Loss: 0.0002\n",
      "Training - Epoch [31/75], Batch: 200, Loss: 0.0002\n",
      "Epoch 31/75, Training Loss: 0.0002, Validation Loss: 0.0258\n",
      "Training - Epoch [32/75], Batch: 100, Loss: 0.0002\n",
      "Training - Epoch [32/75], Batch: 200, Loss: 0.0002\n",
      "Epoch 32/75, Training Loss: 0.0002, Validation Loss: 0.0236\n",
      "Training - Epoch [33/75], Batch: 100, Loss: 0.0002\n",
      "Training - Epoch [33/75], Batch: 200, Loss: 0.0002\n",
      "Epoch 33/75, Training Loss: 0.0002, Validation Loss: 0.0222\n",
      "Training - Epoch [34/75], Batch: 100, Loss: 0.0002\n",
      "Training - Epoch [34/75], Batch: 200, Loss: 0.0002\n",
      "Epoch 34/75, Training Loss: 0.0002, Validation Loss: 0.0211\n",
      "Training - Epoch [35/75], Batch: 100, Loss: 0.0002\n",
      "Training - Epoch [35/75], Batch: 200, Loss: 0.0002\n",
      "Epoch 35/75, Training Loss: 0.0002, Validation Loss: 0.0206\n",
      "Training - Epoch [36/75], Batch: 100, Loss: 0.0002\n",
      "Training - Epoch [36/75], Batch: 200, Loss: 0.0002\n",
      "Epoch 36/75, Training Loss: 0.0002, Validation Loss: 0.0187\n",
      "Training - Epoch [37/75], Batch: 100, Loss: 0.0002\n",
      "Training - Epoch [37/75], Batch: 200, Loss: 0.0002\n",
      "Epoch 37/75, Training Loss: 0.0002, Validation Loss: 0.0178\n",
      "Training - Epoch [38/75], Batch: 100, Loss: 0.0002\n",
      "Training - Epoch [38/75], Batch: 200, Loss: 0.0002\n",
      "Epoch 38/75, Training Loss: 0.0002, Validation Loss: 0.0142\n",
      "Training - Epoch [39/75], Batch: 100, Loss: 0.0002\n",
      "Training - Epoch [39/75], Batch: 200, Loss: 0.0002\n",
      "Epoch 39/75, Training Loss: 0.0002, Validation Loss: 0.0174\n",
      "Training - Epoch [40/75], Batch: 100, Loss: 0.0002\n",
      "Training - Epoch [40/75], Batch: 200, Loss: 0.0002\n",
      "Epoch 40/75, Training Loss: 0.0002, Validation Loss: 0.0147\n",
      "Training - Epoch [41/75], Batch: 100, Loss: 0.0002\n",
      "Training - Epoch [41/75], Batch: 200, Loss: 0.0002\n",
      "Epoch 41/75, Training Loss: 0.0002, Validation Loss: 0.0157\n",
      "Training - Epoch [42/75], Batch: 100, Loss: 0.0002\n",
      "Training - Epoch [42/75], Batch: 200, Loss: 0.0002\n",
      "Epoch 42/75, Training Loss: 0.0002, Validation Loss: 0.0127\n",
      "Training - Epoch [43/75], Batch: 100, Loss: 0.0002\n",
      "Training - Epoch [43/75], Batch: 200, Loss: 0.0002\n",
      "Epoch 43/75, Training Loss: 0.0002, Validation Loss: 0.0128\n",
      "Training - Epoch [44/75], Batch: 100, Loss: 0.0002\n",
      "Training - Epoch [44/75], Batch: 200, Loss: 0.0002\n",
      "Epoch 44/75, Training Loss: 0.0002, Validation Loss: 0.0126\n",
      "Training - Epoch [45/75], Batch: 100, Loss: 0.0002\n",
      "Training - Epoch [45/75], Batch: 200, Loss: 0.0002\n",
      "Epoch 45/75, Training Loss: 0.0002, Validation Loss: 0.0119\n",
      "Training - Epoch [46/75], Batch: 100, Loss: 0.0002\n",
      "Training - Epoch [46/75], Batch: 200, Loss: 0.0002\n",
      "Epoch 46/75, Training Loss: 0.0002, Validation Loss: 0.0115\n",
      "Training - Epoch [47/75], Batch: 100, Loss: 0.0002\n",
      "Training - Epoch [47/75], Batch: 200, Loss: 0.0002\n",
      "Epoch 47/75, Training Loss: 0.0002, Validation Loss: 0.0099\n",
      "Training - Epoch [48/75], Batch: 100, Loss: 0.0002\n",
      "Training - Epoch [48/75], Batch: 200, Loss: 0.0002\n",
      "Epoch 48/75, Training Loss: 0.0002, Validation Loss: 0.0105\n",
      "Training - Epoch [49/75], Batch: 100, Loss: 0.0002\n",
      "Training - Epoch [49/75], Batch: 200, Loss: 0.0002\n",
      "Epoch 49/75, Training Loss: 0.0002, Validation Loss: 0.0088\n",
      "Training - Epoch [50/75], Batch: 100, Loss: 0.0002\n",
      "Training - Epoch [50/75], Batch: 200, Loss: 0.0002\n",
      "Epoch 50/75, Training Loss: 0.0002, Validation Loss: 0.0080\n",
      "Training - Epoch [51/75], Batch: 100, Loss: 0.0002\n",
      "Training - Epoch [51/75], Batch: 200, Loss: 0.0002\n",
      "Epoch 51/75, Training Loss: 0.0002, Validation Loss: 0.0093\n"
     ]
    },
    {
     "name": "stdout",
     "output_type": "stream",
     "text": [
      "Training - Epoch [52/75], Batch: 100, Loss: 0.0002\n",
      "Training - Epoch [52/75], Batch: 200, Loss: 0.0002\n",
      "Epoch 52/75, Training Loss: 0.0002, Validation Loss: 0.0082\n",
      "Training - Epoch [53/75], Batch: 100, Loss: 0.0002\n",
      "Training - Epoch [53/75], Batch: 200, Loss: 0.0002\n",
      "Epoch 53/75, Training Loss: 0.0002, Validation Loss: 0.0090\n",
      "Training - Epoch [54/75], Batch: 100, Loss: 0.0002\n",
      "Training - Epoch [54/75], Batch: 200, Loss: 0.0002\n",
      "Epoch 54/75, Training Loss: 0.0002, Validation Loss: 0.0083\n",
      "Training - Epoch [55/75], Batch: 100, Loss: 0.0002\n",
      "Training - Epoch [55/75], Batch: 200, Loss: 0.0002\n",
      "Epoch 55/75, Training Loss: 0.0002, Validation Loss: 0.0082\n",
      "Training - Epoch [56/75], Batch: 100, Loss: 0.0001\n",
      "Training - Epoch [56/75], Batch: 200, Loss: 0.0002\n",
      "Epoch 56/75, Training Loss: 0.0002, Validation Loss: 0.0067\n",
      "Training - Epoch [57/75], Batch: 100, Loss: 0.0002\n",
      "Training - Epoch [57/75], Batch: 200, Loss: 0.0002\n",
      "Epoch 57/75, Training Loss: 0.0002, Validation Loss: 0.0069\n",
      "Training - Epoch [58/75], Batch: 100, Loss: 0.0002\n",
      "Training - Epoch [58/75], Batch: 200, Loss: 0.0002\n",
      "Epoch 58/75, Training Loss: 0.0002, Validation Loss: 0.0060\n",
      "Training - Epoch [59/75], Batch: 100, Loss: 0.0002\n",
      "Training - Epoch [59/75], Batch: 200, Loss: 0.0002\n",
      "Epoch 59/75, Training Loss: 0.0002, Validation Loss: 0.0069\n",
      "Training - Epoch [60/75], Batch: 100, Loss: 0.0001\n",
      "Training - Epoch [60/75], Batch: 200, Loss: 0.0002\n",
      "Epoch 60/75, Training Loss: 0.0002, Validation Loss: 0.0054\n",
      "Training - Epoch [61/75], Batch: 100, Loss: 0.0002\n",
      "Training - Epoch [61/75], Batch: 200, Loss: 0.0002\n",
      "Epoch 61/75, Training Loss: 0.0002, Validation Loss: 0.0078\n",
      "Training - Epoch [62/75], Batch: 100, Loss: 0.0002\n",
      "Training - Epoch [62/75], Batch: 200, Loss: 0.0002\n",
      "Epoch 62/75, Training Loss: 0.0002, Validation Loss: 0.0058\n",
      "Training - Epoch [63/75], Batch: 100, Loss: 0.0002\n",
      "Training - Epoch [63/75], Batch: 200, Loss: 0.0002\n",
      "Epoch 63/75, Training Loss: 0.0002, Validation Loss: 0.0061\n",
      "Training - Epoch [64/75], Batch: 100, Loss: 0.0002\n",
      "Training - Epoch [64/75], Batch: 200, Loss: 0.0002\n",
      "Epoch 64/75, Training Loss: 0.0002, Validation Loss: 0.0065\n",
      "Training - Epoch [65/75], Batch: 100, Loss: 0.0001\n",
      "Training - Epoch [65/75], Batch: 200, Loss: 0.0002\n",
      "Epoch 65/75, Training Loss: 0.0002, Validation Loss: 0.0075\n",
      "Training - Epoch [66/75], Batch: 100, Loss: 0.0002\n",
      "Training - Epoch [66/75], Batch: 200, Loss: 0.0002\n",
      "Epoch 66/75, Training Loss: 0.0002, Validation Loss: 0.0056\n",
      "Training - Epoch [67/75], Batch: 100, Loss: 0.0002\n",
      "Training - Epoch [67/75], Batch: 200, Loss: 0.0002\n",
      "Epoch 67/75, Training Loss: 0.0002, Validation Loss: 0.0048\n",
      "Training - Epoch [68/75], Batch: 100, Loss: 0.0001\n",
      "Training - Epoch [68/75], Batch: 200, Loss: 0.0002\n",
      "Epoch 68/75, Training Loss: 0.0002, Validation Loss: 0.0048\n",
      "Training - Epoch [69/75], Batch: 100, Loss: 0.0002\n",
      "Training - Epoch [69/75], Batch: 200, Loss: 0.0001\n",
      "Epoch 69/75, Training Loss: 0.0002, Validation Loss: 0.0057\n",
      "Training - Epoch [70/75], Batch: 100, Loss: 0.0002\n",
      "Training - Epoch [70/75], Batch: 200, Loss: 0.0002\n",
      "Epoch 70/75, Training Loss: 0.0002, Validation Loss: 0.0055\n",
      "Training - Epoch [71/75], Batch: 100, Loss: 0.0001\n",
      "Training - Epoch [71/75], Batch: 200, Loss: 0.0001\n",
      "Epoch 71/75, Training Loss: 0.0002, Validation Loss: 0.0058\n",
      "Training - Epoch [72/75], Batch: 100, Loss: 0.0001\n",
      "Training - Epoch [72/75], Batch: 200, Loss: 0.0002\n",
      "Epoch 72/75, Training Loss: 0.0002, Validation Loss: 0.0061\n",
      "Training - Epoch [73/75], Batch: 100, Loss: 0.0002\n",
      "Training - Epoch [73/75], Batch: 200, Loss: 0.0001\n",
      "Epoch 73/75, Training Loss: 0.0002, Validation Loss: 0.0056\n",
      "Training - Epoch [74/75], Batch: 100, Loss: 0.0002\n",
      "Training - Epoch [74/75], Batch: 200, Loss: 0.0002\n",
      "Epoch 74/75, Training Loss: 0.0002, Validation Loss: 0.0058\n",
      "Training - Epoch [75/75], Batch: 100, Loss: 0.0002\n",
      "Training - Epoch [75/75], Batch: 200, Loss: 0.0002\n",
      "Epoch 75/75, Training Loss: 0.0002, Validation Loss: 0.0058\n",
      "Training completed in: 46.85 seconds\n"
     ]
    }
   ],
   "source": [
    "num_epochs = 75\n",
    "train_losses, val_losses = [], []\n",
    "\n",
    "start_time = time.time()\n",
    "\n",
    "for epoch in range(num_epochs):\n",
    "    train_loss = train_one_epoch(model, train_loader, loss_function, optimizer)\n",
    "    val_loss = validate_one_epoch(model, val_loader, loss_function)\n",
    "    train_losses.append(train_loss)\n",
    "    val_losses.append(val_loss)\n",
    "    print(f'Epoch {epoch+1}/{num_epochs}, Training Loss: {train_loss:.4f}, Validation Loss: {val_loss:.4f}')\n",
    "    \n",
    "end_time = time.time()  # End time\n",
    "training_time = end_time - start_time  # Calculate total training time\n",
    "\n",
    "print(f\"Training completed in: {training_time:.2f} seconds\")"
   ]
  },
  {
   "cell_type": "markdown",
   "id": "e86daaa6",
   "metadata": {},
   "source": [
    "### Plotting and Testing"
   ]
  },
  {
   "cell_type": "code",
   "execution_count": 18,
   "id": "d4595d84",
   "metadata": {},
   "outputs": [
    {
     "data": {
      "image/png": "[encoded data removed]",
      "text/plain": [
       "<Figure size 1000x600 with 1 Axes>"
      ]
     },
     "metadata": {},
     "output_type": "display_data"
    }
   ],
   "source": [
    "# training and validation losses VS epochs\n",
    "plt.figure(figsize=(10, 6))\n",
    "plt.plot(train_losses, label='Training Loss')\n",
    "plt.plot(val_losses, label='Validation Loss')\n",
    "plt.xlabel('Epochs')\n",
    "plt.ylabel('Loss')\n",
    "plt.title('Training and Validation Loss')\n",
    "plt.legend()\n",
    "plt.show()"
   ]
  },
  {
   "cell_type": "code",
   "execution_count": 19,
   "id": "e998ed54",
   "metadata": {},
   "outputs": [
    {
     "data": {
      "image/png": "[encoded data removed]",
      "text/plain": [
       "<Figure size 640x480 with 1 Axes>"
      ]
     },
     "metadata": {},
     "output_type": "display_data"
    }
   ],
   "source": [
    "# training stage - scalered adj close VS day\n",
    "with torch.no_grad():\n",
    "    predicted = model(x_train.to(device)).to('cpu').numpy()\n",
    "\n",
    "plt.plot(y_train, label='Actual Adj Close')\n",
    "plt.plot(predicted, label='Predicted Adj Close')\n",
    "plt.xlabel('Day')\n",
    "plt.ylabel('Adj Close')\n",
    "plt.legend()\n",
    "plt.show()"
   ]
  },
  {
   "cell_type": "code",
   "execution_count": 20,
   "id": "a0c56ca4",
   "metadata": {},
   "outputs": [
    {
     "data": {
      "text/plain": [
       "array([ 17.76704587,  17.81076371,  18.07549385, ..., 117.06922266,\n",
       "       116.11050338, 116.0672476 ])"
      ]
     },
     "execution_count": 20,
     "metadata": {},
     "output_type": "execute_result"
    }
   ],
   "source": [
    "#inverted back to original Adj Close price\n",
    "train_predictions = predicted.flatten()\n",
    "\n",
    "output = np.zeros((x_train.shape[0], sequence_length+1))\n",
    "output[:, 0] = train_predictions\n",
    "output = scaler.inverse_transform(output)\n",
    "\n",
    "train_predictions = dc(output[:, 0])\n",
    "train_predictions"
   ]
  },
  {
   "cell_type": "code",
   "execution_count": 21,
   "id": "56b22967",
   "metadata": {},
   "outputs": [
    {
     "data": {
      "text/plain": [
       "array([ 17.25923767,  17.73170948,  17.69038787, ..., 115.98164334,\n",
       "       116.5810625 , 115.30361925])"
      ]
     },
     "execution_count": 21,
     "metadata": {},
     "output_type": "execute_result"
    }
   ],
   "source": [
    "output[:, 0] = y_train.flatten()\n",
    "output = scaler.inverse_transform(output)\n",
    "\n",
    "new_y_train = dc(output[:, 0])\n",
    "new_y_train"
   ]
  },
  {
   "cell_type": "code",
   "execution_count": 22,
   "id": "cad9156c",
   "metadata": {},
   "outputs": [
    {
     "data": {
      "image/png": "[encoded data removed]",
      "text/plain": [
       "<Figure size 640x480 with 1 Axes>"
      ]
     },
     "metadata": {},
     "output_type": "display_data"
    }
   ],
   "source": [
    "# training stage - actual adj close VS day\n",
    "plt.plot(new_y_train, label='Actual Adj Close')\n",
    "plt.plot(train_predictions, label='Predicted Adj Close')\n",
    "plt.xlabel('Day')\n",
    "plt.ylabel('Adj Close')\n",
    "plt.legend()\n",
    "plt.show()"
   ]
  },
  {
   "cell_type": "code",
   "execution_count": 23,
   "id": "efc982c3",
   "metadata": {},
   "outputs": [
    {
     "data": {
      "text/plain": [
       "array([145.05683341, 144.07017598, 144.46323896, 144.94234607,\n",
       "       144.04094837, 142.06803647, 139.80390691, 141.58148813,\n",
       "       142.38464561, 142.60985937, 142.30139528, 140.65081984,\n",
       "       139.01844718, 138.93961054, 138.61417402, 139.48063022,\n",
       "       140.28613558, 139.74033686, 136.52579963, 134.07691021,\n",
       "       131.80616683, 130.69924102, 131.77432002, 130.63779588,\n",
       "       130.03726793, 128.81986821, 126.15755547, 126.94332413,\n",
       "       127.40607669, 125.02550412, 124.76344154, 123.89202094,\n",
       "       126.06928433, 127.22016976, 128.05181609, 129.83533417,\n",
       "       130.50773303, 131.4761044 , 132.44231593, 132.50555556,\n",
       "       132.56843521, 133.83590871, 135.87338461, 137.39905501,\n",
       "       137.81751753, 138.95954334, 140.29166411, 139.66282997,\n",
       "       139.96156944, 140.54636875, 142.97271153, 145.42915768,\n",
       "       145.63126874, 146.8797819 , 146.50773701, 145.97125996,\n",
       "       145.81587009, 146.72388699, 146.90301892, 147.77244355,\n",
       "       147.64364328, 147.21512572, 145.50374718, 144.80900586,\n",
       "       144.58073501, 143.37865829, 143.28802584, 143.01483367,\n",
       "       142.05020978, 141.8487918 , 143.74922031, 145.63558303,\n",
       "       145.76765529, 146.37651364, 145.85074981, 144.82118582,\n",
       "       145.03967831, 145.85976523, 146.3870603 , 147.68153709,\n",
       "       148.0381354 , 149.07931522, 150.20491124, 150.31821658,\n",
       "       150.76179388, 151.39522439, 151.10194898, 150.77169581,\n",
       "       151.56516359, 152.41314031, 153.59107739, 154.56731174,\n",
       "       154.97266213, 154.72103607, 154.85160396, 154.15636297,\n",
       "       153.41211202, 152.77348878, 153.98596172, 154.47873705,\n",
       "       154.78160813, 155.3123686 , 155.92524576, 156.01372375,\n",
       "       155.6395244 , 155.50976241, 155.00239478, 154.71379364,\n",
       "       155.78065506, 156.63832418, 157.10587995, 157.14341378,\n",
       "       156.91887698, 156.37802654, 157.97895803, 158.76665281,\n",
       "       158.82286223, 159.30049723, 159.63228431, 159.61972288,\n",
       "       159.49850353, 159.39813033, 159.47885011, 160.03571126,\n",
       "       160.36256618, 160.35478648, 159.79372386, 159.54510652,\n",
       "       159.64725271, 160.20432877, 160.88680417, 161.27693901,\n",
       "       162.07561564, 162.7218574 , 162.85024396, 162.85631514,\n",
       "       162.59525457, 162.94010811, 163.20676706, 163.82991685,\n",
       "       164.13102569, 164.42248512, 164.94531545, 165.09884636,\n",
       "       165.18316586, 165.07212244, 165.4626871 , 165.66651743,\n",
       "       165.55293808, 165.89859753, 166.30650534, 166.59577269,\n",
       "       167.35163947, 167.6476872 , 167.65576778, 167.73367225,\n",
       "       167.63379335, 167.27259599, 166.95474575, 166.97752609,\n",
       "       167.10984549, 167.20843494, 167.69311894, 167.99726874,\n",
       "       168.34033854, 168.33827541, 168.15810655, 168.14737185,\n",
       "       168.25205397, 168.40711073, 168.35220151, 168.60999546,\n",
       "       168.88572356, 168.95565491, 168.63012167, 168.22443818,\n",
       "       166.67491289, 165.10549779, 164.28059153, 163.43768665,\n",
       "       162.84829904, 162.5138256 , 162.64918596, 162.39736647,\n",
       "       162.08597425, 161.38917517, 161.08327387, 161.17101042,\n",
       "       161.47956585, 162.38959752, 162.04507709, 162.28436738,\n",
       "       162.75242819, 163.69798429, 164.81151318, 165.50221959,\n",
       "       166.1404345 , 166.59864173, 165.86447   , 164.45433462,\n",
       "       163.67995344, 163.38522739, 162.58517535, 161.65576964,\n",
       "       161.43329597, 161.18300234, 161.63877035, 162.10736843,\n",
       "       161.6851262 , 161.14417905, 161.02560307, 161.19929243,\n",
       "       160.41245728, 159.59403053, 159.18528457, 159.06597791,\n",
       "       159.55054371, 159.51102197, 159.78066815, 160.23446974,\n",
       "       161.03009467, 161.77868678, 162.09855716, 162.55484096,\n",
       "       163.00519327, 162.92510747, 162.84333464, 162.49110973,\n",
       "       162.0124969 , 161.64735596, 160.87631661, 160.43793473,\n",
       "       160.27550659, 159.65162611, 158.30188012, 157.86598043,\n",
       "       158.09097929, 158.30542611, 159.15127524, 160.39565141,\n",
       "       160.94269122, 161.795267  , 162.77557387, 163.52776571,\n",
       "       163.88660982, 164.77752534, 165.06850122, 165.62622201,\n",
       "       166.05922043, 166.54291585, 166.8442396 ])"
      ]
     },
     "execution_count": 23,
     "metadata": {},
     "output_type": "execute_result"
    }
   ],
   "source": [
    "# Test for the prediction\n",
    "test_predictions = model(x_test.to(device)).detach().cpu().numpy().flatten()\n",
    "\n",
    "output = np.zeros((x_test.shape[0], sequence_length+1))\n",
    "output[:, 0] = test_predictions\n",
    "output = scaler.inverse_transform(output)\n",
    "\n",
    "test_predictions = dc(output[:, 0])\n",
    "test_predictions"
   ]
  },
  {
   "cell_type": "code",
   "execution_count": 24,
   "id": "bc4ca79f",
   "metadata": {},
   "outputs": [
    {
     "data": {
      "text/plain": [
       "array([147.18728696, 149.34523004, 150.23030004, 147.2867441 ,\n",
       "       143.41834928, 140.38532946, 147.20718483, 147.48564227,\n",
       "       146.98841834, 145.81495673, 142.11566296, 140.15660194,\n",
       "       141.85707116, 141.36981094, 143.68685912, 144.66142255,\n",
       "       142.41398604, 135.74125594, 133.76231316, 131.63421555,\n",
       "       131.56460656, 134.69709696, 131.49499489, 131.12706013,\n",
       "       129.30723589, 125.33940944, 128.88957122, 129.20777874,\n",
       "       124.37480166, 125.65763845, 124.32508115, 128.89950538,\n",
       "       129.42654524, 130.00334188, 132.74800233, 132.66845649,\n",
       "       134.01095468, 135.18438673, 134.45845139, 134.51811278,\n",
       "       137.10363857, 140.32565195, 141.73774838, 141.07148786,\n",
       "       143.15981926, 145.11885074, 142.20515371, 143.48796095,\n",
       "       144.6216268 , 149.98169076, 153.64120489, 150.88661028,\n",
       "       153.79035703, 151.07554742, 150.03137232, 150.39988732,\n",
       "       153.22844014, 152.581054  , 154.70245182, 153.08899114,\n",
       "       151.93368397, 147.88012633, 148.30838064, 148.7964011 ,\n",
       "       146.1172798 , 147.32238674, 146.81445228, 144.7229456 ,\n",
       "       145.32052661, 150.41983087, 153.20852884, 150.98753149,\n",
       "       152.25239384, 149.98159673, 147.90004033, 149.86209128,\n",
       "       151.97352807, 152.37190467, 155.22034999, 154.37378092,\n",
       "       156.76408348, 158.63648788, 157.19235391, 158.2879003 ,\n",
       "       159.60256778, 157.64051952, 157.0130608 , 160.12046595,\n",
       "       161.70403818, 164.233779  , 165.49865747, 164.96084799,\n",
       "       163.09838851, 163.99477883, 161.3753834 , 160.15035978,\n",
       "       159.45320073, 164.89111543, 164.54254397, 164.56245527,\n",
       "       165.79745604, 166.95275784, 165.97673303, 164.35331669,\n",
       "       164.66204942, 163.10835491, 163.09838851, 167.72961584,\n",
       "       168.9944782 , 168.90484507, 167.8590877 , 166.77348085,\n",
       "       165.12017606, 172.86875884, 172.7990424 , 171.07603191,\n",
       "       172.85879781, 173.04803583, 172.11053343, 171.61187498,\n",
       "       171.61187498, 172.23022694, 174.58392514, 174.69364688,\n",
       "       173.73619019, 171.10322326, 171.38247586, 172.52941771,\n",
       "       174.96292233, 176.82793923, 176.778075  , 179.61050424,\n",
       "       180.46821634, 179.10186864, 178.73286471, 177.34655735,\n",
       "       180.08923527, 180.47819348, 183.30066169, 182.82193066,\n",
       "       183.46023691, 185.51475509, 184.42764388, 184.51741132,\n",
       "       183.47021406, 186.5021056 , 186.18295517, 184.77672038,\n",
       "       187.55928001, 188.74612506, 189.08520293, 193.45355372,\n",
       "       191.94758509, 190.82058679, 191.2993017 , 190.1723034 ,\n",
       "       188.10783493, 187.57923967, 189.26473781, 190.03268247,\n",
       "       190.18229666, 193.47349726, 193.2141882 , 194.58055202,\n",
       "       192.61580128, 191.42897235, 192.23679872, 193.10447722,\n",
       "       193.98214898, 192.7055526 , 195.30860959, 195.92695618,\n",
       "       195.08918762, 192.06726248, 190.66101157, 181.50546332,\n",
       "       178.37381107, 179.32127449, 177.71557739, 177.49615542,\n",
       "       177.55607739, 179.2238939 , 177.21652136, 176.33769446,\n",
       "       173.7710699 , 174.2604228 , 175.60864294, 176.99680926,\n",
       "       180.88170103, 176.14793529, 178.37499844, 179.95292931,\n",
       "       183.87774577, 187.40310572, 187.62281782, 189.21073658,\n",
       "       189.45040834, 182.66933998, 177.32638815, 177.94555676,\n",
       "       179.12400963, 176.06803754, 173.98078874, 175.5087909 ,\n",
       "       174.77972326, 177.73583793, 178.83439841, 175.25910976,\n",
       "       173.70115467, 174.56001116, 175.84832544, 171.73374981,\n",
       "       170.20574764, 170.46542205, 170.98473862, 173.52139413,\n",
       "       172.173174  , 173.43151924, 174.67987122, 177.25648366,\n",
       "       178.75450066, 178.15528634, 179.56342845, 180.47224588,\n",
       "       178.61468632, 178.48486523, 176.91691688, 175.60864294,\n",
       "       175.22915683, 172.65254438, 172.77238295, 173.21180714,\n",
       "       170.87489332, 166.67042667, 167.99867102, 170.0659333 ,\n",
       "       170.5453198 , 173.74110623, 177.33638142, 176.41757072,\n",
       "       178.99418854, 181.58077814, 182.64936958, 182.16999919,\n",
       "       186.39999165, 184.80000038, 187.44000021, 188.00999229,\n",
       "       189.71000752, 189.69000488, 191.44999581])"
      ]
     },
     "execution_count": 24,
     "metadata": {},
     "output_type": "execute_result"
    }
   ],
   "source": [
    "output = np.zeros((x_test.shape[0], sequence_length+1))\n",
    "output[:, 0] = y_test.flatten()\n",
    "output = scaler.inverse_transform(output)\n",
    "\n",
    "new_y_test = dc(output[:, 0])\n",
    "new_y_test"
   ]
  },
  {
   "cell_type": "code",
   "execution_count": 25,
   "id": "8f2d0ee7",
   "metadata": {},
   "outputs": [
    {
     "data": {
      "image/png": "[encoded data removed]",
      "text/plain": [
       "<Figure size 640x480 with 1 Axes>"
      ]
     },
     "metadata": {},
     "output_type": "display_data"
    }
   ],
   "source": [
    "#stock prediciton testing\n",
    "plt.plot(new_y_test, label='Actual Adj Close')\n",
    "plt.plot(test_predictions, label='Predicted Adj Close')\n",
    "plt.xlabel('Day')\n",
    "plt.ylabel('Adj Close')\n",
    "plt.legend()\n",
    "plt.show()"
   ]
  }
 ],
 "metadata": {
  "kernelspec": {
   "display_name": "Python 3 (ipykernel)",
   "language": "python",
   "name": "python3"
  },
  "language_info": {
   "codemirror_mode": {
    "name": "ipython",
    "version": 3
   },
   "file_extension": ".py",
   "mimetype": "text/x-python",
   "name": "python",
   "nbconvert_exporter": "python",
   "pygments_lexer": "ipython3",
   "version": "3.11.5"
  }
 },
 "nbformat": 4,
 "nbformat_minor": 5
}
